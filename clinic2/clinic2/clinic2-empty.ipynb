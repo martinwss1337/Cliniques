{
 "cells": [
  {
   "cell_type": "markdown",
   "id": "895feafc",
   "metadata": {},
   "source": [
    "(Group: Clinic 2 50)\n",
    "\n",
    "(Martin Popov, Yuri Manna, Mateusz Zbos)\n",
    "\n",
    "(i6316814, i6316134, i6329847)"
   ]
  },
  {
   "cell_type": "markdown",
   "id": "08c85891",
   "metadata": {},
   "source": [
    "**Use of genAI tools (e.g. chatGPT), websites (e.g. stackoverflow)**: *list websites where you found code (or other info) as well as include information on how you used genAI tools*"
   ]
  },
  {
   "cell_type": "markdown",
   "id": "6b08998c",
   "metadata": {},
   "source": [
    "# Data Analysis, Clinic 2\n",
    "\n",
    "By completing and delivering the clinic tasks you will know how to :\n",
    "\n",
    "- Preprocess data and make it amenable to statistical analysis and machine learning models;\n",
    "- Train and test out-of-the-box machine learning models in `sklearn`;\n",
    "- Carry out simple logistic regression analysis;\n",
    "- Evaluate classification models based on different metrics;\n",
    "- Assess how your model performance can improve\n",
    "- Reflect on the greater impact of the models you develop\n",
    "\n",
    "---\n",
    "\n",
    "## Important Dates\n",
    "\n",
    "- Homework release: Fri, 7th Feb\n",
    "- **Homework due**: Mon, 17th Feb late night (wildcards possible, apply to the group)\n",
    "\n",
    "---\n",
    "\n",
    "##  Some rules\n",
    "\n",
    "* We have provided `TODO` comments in the code cells that you need to fill out with your solutions. For some questions, we have also provided `Your response` comments, where you should provide a textual answer.\n",
    "\n",
    "* You are allowed to use any built-in Python library that is included in the `requirements.txt` for this homework. If you use any additional library, this may complicate the grading process, and we reserve the right to penalize your grade for unnecessary complexity of the solution. All the questions can be solved with the libraries in `requirements.txt`.\n",
    "\n",
    "* Make sure that you include a proper amount/mix of comments, results and code. More specifically, be sure to provide a concise textual description of your thought process, the assumptions you made, the solution you implemented, and explanations for your answers. A notebook that only has code cells will not suffice. To avoid confusion: use short comments for longer code answers.\n",
    "\n",
    "* Back up any hypotheses and claims with data, since this is an important aspect of the course.\n",
    "\n",
    "* Please write all your comments in English, and use meaningful variable names (as possible) in your code. \n",
    "\n",
    "* In the end, make sure that all cells are executed properly and everything you need to show is in your (execucted) notebook. We will not run your notebook for you! \n",
    "\n",
    "- In continuation to the previous point, interactive plots, such as those generated using the ‘plotly’ package, should be strictly avoided! Make sure to print results and/or dataframes that confirm you have properly addressed the task.\n",
    "\n",
    "* You are asked to deliver **only your executed notebook file, .ipnyb** and nothing else. If you deliver other files, we will not grade anything.\n",
    "\n",
    "* Honor code applies to these tasks. If you are not certain about an action, consult with Jerry.\n",
    "\n",
    "**A Note from Jerry on using Language Models (LMs)**\n",
    "\n",
    "If you try hard enough, you will likely get away with cheating (that does not only apply to LMs). Fortunately, my job is not to police, but rather to educate you. So, please consider the following:\n",
    "\n",
    "I assume that you are taking this course to learn something! LMs are not always right ([they often fail in silly ways](https://community.openai.com/t/why-9-11-is-larger-than-9-9-incredible/869824/4)). This course should prepare you to detect when they are wrong!\n",
    "\n",
    "I don't restrict the use of LMs because I see the value of being helped when coding (esp. in the context of pandas dataframes nightmare :)). Based on what we saw last year in your notebooks, it's pretty clear when you \"copy\" some code and then you struggle to interpret the results. This is the essence of this course and of the skills you should try build for yourself: Many people can run fancy models these days but not many people can interpret the results correctly. Try to be the latter ones.\n",
    "\n",
    "\n",
    "\n",
    "---\n",
    "\n",
    "\n",
    "## Grading \n",
    "- The homework has a total of 100 points, distributed as follows:\n",
    "    - Part 1: Data Preprocessing (20 points)\n",
    "    - Part 2: Linear Regression (30 points)\n",
    "    - Part 3: Supervised Learning (40 points)\n",
    "    - Part 4: The Aftermath (5 points)"
   ]
  },
  {
   "cell_type": "markdown",
   "id": "7c6f0a9b",
   "metadata": {},
   "source": [
    "## Context\n",
    "\n",
    "Within DACS, you are excited to start an internship as a data scientist.\n",
    "After rounds of interviews, you have been selected to work with the biggest car dealership in the Netherlands !\n",
    "\n",
    "Your mentor at the company Jerasimosu, has explained to you that the company is interested in a pricing model for used cars. \n",
    "\n",
    "- Jerasimosu: \"We have a lot of used cars in our inventory, and we need to determine the price at which we should sell these cars. We have some ideas about the factors that influence the price of a used car, but so far we have just been using our experience and intuition to determine the price of a used car. Sometimes it works, but probably we can do better and a more data-driven approach would also help our new employees in the sales team as they have less experience.\"\n",
    "\n",
    "- You: \"That sounds like a great project! What kind of data do we have?\"\n",
    "\n",
    "- Jerasimosu: \"We sell all kinds of cars here, but maybe we can start with a specific brand and model. For example, the Toyota Corolla is the best-selling car worldwide in 2023, and we have a lot of data on it. We can start by analyzing the data on used Toyota Corolla cars. If it works well, we can extend the analysis to other brands.\"\n",
    "\n",
    "The dataset contains the following columns:\n",
    "\n",
    "- `Age`: Age of the car in months.\n",
    "- `Mileage`: Number of distance the car has been driven. (km or miles)\n",
    "- `FuelType`: Fuel type of the car (Petrol, Diesel, or CNG)\n",
    "- `HP`: Horsepower\n",
    "- `MetColor`: Is the color of the car metallic? (Yes=1, No=0)\n",
    "- `Automatic`: Is the car automatic? (Yes=1, No=0)\n",
    "- `CC`: Cylinder volume in cubic centimeters\n",
    "- `Doors`: Number of doors\n",
    "- `Weight`: Weight of the car in kilograms\n",
    "- `Price`: Price of the car in euros\n",
    "\n",
    "\n",
    "## Data\n",
    "\n",
    "The data is provided in the `data` folder and it contains the following 3 csv files:\n",
    "- `Task1-2.ToyotaCorolla.csv` for Part 1 and Part 2\n",
    "- `Task3.ToyotaCorolla_sales_3months.csv` for Part 3\n",
    "\n",
    "You should not use any other data source for this homework.\n",
    "\n",
    "For some questions, you might need to slightly modify the data. But overall, you should avoid making any major changes to the data, which may affect your analysis.\n",
    "\n",
    "## References:\n",
    "\n",
    "The data is based on the ToyotaCorolla dataset from the UCI Machine Learning Repository [here](https://archive.ics.uci.edu/ml/datasets/Toyota+Corolla).\n",
    "We have made some modifications to the original dataset, so please use the data provided in the `data` folder in the course repo."
   ]
  },
  {
   "cell_type": "markdown",
   "id": "b36859d6",
   "metadata": {},
   "source": [
    "## Task 1 (20 pts) - Get to know the data"
   ]
  },
  {
   "cell_type": "code",
   "execution_count": 2,
   "id": "ccd6fa08",
   "metadata": {},
   "outputs": [],
   "source": [
    "import pandas as pd\n",
    "import numpy as np\n",
    "import matplotlib.pyplot as plt\n",
    "import statsmodels.api as sm\n",
    "import random\n",
    "import sklearn\n",
    "\n",
    "# fix random seed for reproducibility\n",
    "np.random.seed(42)\n",
    "random.seed(42)"
   ]
  },
  {
   "cell_type": "markdown",
   "id": "f502c087",
   "metadata": {},
   "source": [
    "\n",
    "**1.1 (2 pts)**: Load the data from the file `Task1-2.ToyotaCorolla-raw.csv` into a pandas DataFrame. Display the first 5 rows of the DataFrame. Hint: A naive loading of the data will raise an error. You will need to figure out how to load the data correctly. (Hint: localise which row is causing the error)"
   ]
  },
  {
   "cell_type": "code",
   "execution_count": 3,
   "id": "23cf0212",
   "metadata": {},
   "outputs": [],
   "source": [
    "\n",
    "# df = pd.read_csv(\"data\\Task1-2.ToyotaCorolla.csv\")\n",
    "# print(df.head(5))\n"
   ]
  },
  {
   "cell_type": "markdown",
   "id": "1696cb45",
   "metadata": {},
   "source": [
    "Line 33 in the data is causing the error, similarly to multiple other lines. The issue seems to be that all of the features got shifted by one place, hence the error \"Expected 11 fields in line 33, saw 12\". The content of these fields also suggests that (fuel type, hp etc, could make sense if shifted back to place), and the simple answer is just that the price has commas instead of dots (or nothing, like any other non-American way of writing numbers). In line 16 we can also see that the price is in quotation marks - these are both problems and hints for the preprocessing and cleaning of the data. In other places, there are also the symbols of the currency in that field.\n",
    "\n",
    "To load the data, we can use the \"on bad lines\" parameter, and treat all fields as strings.\n",
    "We can also already preprocess the data to get rid of the commas, and make the price field have a constant format xxxx.0, so the price in euros and cents (one digit after rounding) after the dot.\n"
   ]
  },
  {
   "cell_type": "code",
   "execution_count": 4,
   "id": "d21b33bf",
   "metadata": {},
   "outputs": [
    {
     "name": "stdout",
     "output_type": "stream",
     "text": [
      "     Price   Age  Mileage FuelType    HP  MetColor  Automatic      CC  Doors  \\\n",
      "0  13500.0  23.0  46986.0   Diesel  90.0       1.0        0.0  2000.0    3.0   \n",
      "1  11878.0  23.0  72937.0   Diesel  90.0       1.0        0.0  2000.0    3.0   \n",
      "2  12050.0  24.0  41711.0   Diesel  90.0       1.0        0.0  2000.0    3.0   \n",
      "3  12914.0  26.0  48000.0   Diesel  90.0       0.0        0.0  2000.0    3.0   \n",
      "4  11878.0  30.0  38500.0   Diesel  90.0       0.0        0.0  2000.0    3.0   \n",
      "\n",
      "   Weight Currency  \n",
      "0  1165.0     EURO  \n",
      "1  1165.0      CHF  \n",
      "2  1165.0      CHF  \n",
      "3  1165.0      CHF  \n",
      "4  1170.0      CHF  \n",
      "Price         object\n",
      "Age          float64\n",
      "Mileage       object\n",
      "FuelType      object\n",
      "HP           float64\n",
      "MetColor     float64\n",
      "Automatic    float64\n",
      "CC           float64\n",
      "Doors        float64\n",
      "Weight       float64\n",
      "Currency      object\n",
      "dtype: object\n"
     ]
    }
   ],
   "source": [
    "# Load the CSV file with error handling\n",
    "df = pd.read_csv(\"data/Task1-2.ToyotaCorolla.csv\", on_bad_lines='skip')\n",
    "\n",
    "\n",
    "# Display the first few rows to inspect the raw dataset\n",
    "print(df.head(5))\n",
    "print(df.dtypes)\n"
   ]
  },
  {
   "cell_type": "code",
   "execution_count": 5,
   "id": "5e0b4e7f",
   "metadata": {},
   "outputs": [
    {
     "name": "stdout",
     "output_type": "stream",
     "text": [
      "      Price   Age  Mileage FuelType     HP  MetColor  Automatic      CC  \\\n",
      "0   13500.0  23.0  46986.0   Diesel   90.0       1.0        0.0  2000.0   \n",
      "1   11878.0  23.0  72937.0   Diesel   90.0       1.0        0.0  2000.0   \n",
      "2   12050.0  24.0  41711.0   Diesel   90.0       1.0        0.0  2000.0   \n",
      "3   12914.0  26.0  48000.0   Diesel   90.0       0.0        0.0  2000.0   \n",
      "4   11878.0  30.0  38500.0   Diesel   90.0       0.0        0.0  2000.0   \n",
      "5   11187.0  32.0  61000.0   Diesel   90.0       0.0        0.0  2000.0   \n",
      "6   14599.0  27.0  94612.0   Diesel   90.0       1.0        0.0  2000.0   \n",
      "7   16068.0  30.0  75889.0   Diesel   90.0       1.0        0.0  2000.0   \n",
      "8   18572.0  27.0  19700.0   Petrol  192.0       0.0        0.0  1800.0   \n",
      "9   11187.0  23.0  71138.0   Diesel   69.0       0.0        0.0  1900.0   \n",
      "10  18097.0  25.0  31461.0   Petrol  192.0       0.0        0.0  1800.0   \n",
      "11  17233.0  22.0  43610.0   Petrol  192.0       0.0        0.0  1800.0   \n",
      "12  16931.0  25.0  32189.0   Petrol  192.0       0.0        0.0  1800.0   \n",
      "13  18572.0  31.0  23000.0   Petrol  192.0       1.0        0.0  1800.0   \n",
      "14  19436.0  32.0  34131.0   Petrol  192.0       1.0        0.0  1800.0   \n",
      "15  19005.0  28.0  18739.0   Petrol  192.0       0.0        0.0  1800.0   \n",
      "16  19652.0  30.0  34000.0   Petrol  192.0       1.0        0.0  1800.0   \n",
      "17  15506.0  24.0  21716.0   Petrol  110.0       1.0        0.0  1600.0   \n",
      "18  16750.0  24.0  25563.0   Petrol  110.0       0.0        0.0  1600.0   \n",
      "19  14642.0  30.0  64359.0   Petrol  110.0       1.0        0.0  1600.0   \n",
      "20  13778.0  30.0  67660.0   Petrol  110.0       1.0        0.0  1600.0   \n",
      "21  14642.0  29.0  43905.0   Petrol  110.0       0.0        1.0  1600.0   \n",
      "22  15950.0  28.0  56349.0   Petrol  110.0       1.0        0.0  1600.0   \n",
      "23  16950.0  28.0  32220.0   Petrol  110.0       1.0        0.0  1600.0   \n",
      "24  14037.0  29.0  25813.0   Petrol  110.0       1.0        0.0  1600.0   \n",
      "25  13778.0  25.0  28450.0   Petrol  110.0       1.0        0.0  1600.0   \n",
      "26  15112.0  27.0  34545.0   Petrol  110.0       1.0        0.0  1600.0   \n",
      "27  13606.0  29.0  41415.0   Petrol  110.0       1.0        0.0  1600.0   \n",
      "28  14642.0  28.0  44142.0   Petrol  110.0       0.0        0.0  1600.0   \n",
      "29  15506.0  30.0  11090.0   Petrol  110.0       1.0        0.0  1600.0   \n",
      "30  11187.0  29.0   9750.0   Petrol   97.0       1.0        0.0  1400.0   \n",
      "31  13778.0  27.0  29510.0   Petrol   97.0       1.0        0.0  1400.0   \n",
      "32  12914.0  26.0  32692.0   Petrol   97.0       1.0        0.0  1400.0   \n",
      "33  15398.5  22.0  25465.8   Petrol   97.0       1.0        0.0  1400.0   \n",
      "34  13606.0  26.0  43000.0   Petrol   97.0       0.0        0.0  1400.0   \n",
      "35  13778.0  25.0  25000.0   Petrol   97.0       0.0        0.0  1400.0   \n",
      "36  12914.0  23.0  10000.0   Petrol   97.0       1.0        0.0  1400.0   \n",
      "37  13606.0  32.0  25329.0   Petrol   97.0       1.0        0.0  1400.0   \n",
      "38  12742.0  27.0  27500.0   Petrol   97.0       0.0        0.0  1400.0   \n",
      "39  12050.0  22.0  49059.0   Petrol   97.0       0.0        0.0  1400.0   \n",
      "\n",
      "    Doors  Weight Currency  \n",
      "0     3.0  1165.0     EURO  \n",
      "1     3.0  1165.0      CHF  \n",
      "2     3.0  1165.0      CHF  \n",
      "3     3.0  1165.0      CHF  \n",
      "4     3.0  1170.0      CHF  \n",
      "5     3.0  1170.0      CHF  \n",
      "6     3.0  1245.0      CHF  \n",
      "7     3.0  1245.0      CHF  \n",
      "8     3.0  1185.0      CHF  \n",
      "9     3.0  1105.0      CHF  \n",
      "10    3.0  1185.0      CHF  \n",
      "11    3.0  1185.0      CHF  \n",
      "12    3.0  1185.0      CHF  \n",
      "13    3.0  1185.0      CHF  \n",
      "14    3.0  1185.0      CHF  \n",
      "15    3.0  1185.0      CHF  \n",
      "16    3.0  1185.0      CHF  \n",
      "17    3.0  1105.0      CHF  \n",
      "18    3.0  1065.0     EURO  \n",
      "19    3.0  1105.0      CHF  \n",
      "20    3.0  1105.0      CHF  \n",
      "21    3.0  1170.0      CHF  \n",
      "22    3.0  1120.0     EURO  \n",
      "23    3.0  1120.0     EURO  \n",
      "24    3.0  1120.0      CHF  \n",
      "25    3.0  1120.0      CHF  \n",
      "26    3.0  1120.0      CHF  \n",
      "27    3.0  1120.0      CHF  \n",
      "28    3.0  1120.0      CHF  \n",
      "29    3.0  1120.0      CHF  \n",
      "30    3.0  1100.0      CHF  \n",
      "31    3.0  1100.0      CHF  \n",
      "32    3.0  1100.0      CHF  \n",
      "33    3.0  1100.0      GBP  \n",
      "34    3.0  1100.0      CHF  \n",
      "35    3.0  1100.0      CHF  \n",
      "36    3.0  1100.0      CHF  \n",
      "37    3.0  1100.0      CHF  \n",
      "38    3.0  1100.0      CHF  \n",
      "39    3.0  1100.0      CHF  \n",
      "Price        float64\n",
      "Age          float64\n",
      "Mileage      float64\n",
      "FuelType      object\n",
      "HP           float64\n",
      "MetColor     float64\n",
      "Automatic    float64\n",
      "CC           float64\n",
      "Doors        float64\n",
      "Weight       float64\n",
      "Currency      object\n",
      "dtype: object\n"
     ]
    }
   ],
   "source": [
    "# function to clean the number format\n",
    "def clean_number(value):\n",
    "    value = str(value).replace('\"', '')  # getting rid of quotation marks\n",
    "    value = value.replace('€', '')  # getting rid currency symbols\n",
    "    value = value.replace('£', '') \n",
    "    \n",
    "# we have to split the weird American formatting of a number with multiple commas, to only have the actual price and cents after dot    \n",
    "# for a single comma (as the thousands part separator) and no actual (dot) decimal part, so in the case of \"15,398\", we want 15398\n",
    "    if value.count(',') == 1 and '.' not in value:\n",
    "        cleaned_value = value.replace(',', '')\n",
    "# for a single comma AND a dot, so in the case of \"15,398.499999999998\", we want 15398.5        \n",
    "    elif value.count(',') == 1 and '.' in value:\n",
    "        cleaned_value = value.replace(',', '')  # Convert \"4,089.9999\" to \"4089.9999\"\n",
    "    else:\n",
    "        # if more parts, like \"15,398,499999999998\", then the second comma is the decimal separator which should be a dot, and again we want 15398.5\n",
    "        parts = value.split(',')\n",
    "        if len(parts) > 1:\n",
    "            main_price = ''.join(parts[:-1]).replace(',', '')\n",
    "            decimal_part = parts[-1][:2]\n",
    "            cleaned_value = f\"{main_price}.{decimal_part}\"  \n",
    "        else:\n",
    "            cleaned_value = value.replace(',', '')\n",
    "\n",
    "    try:\n",
    "        return round(float(cleaned_value), 1)  # rounding to have 1 decimal place as it was originally formatted\n",
    "    except ValueError:\n",
    "        return np.nan\n",
    "\n",
    "# cleaning the price column\n",
    "df[\"Price\"] = df[\"Price\"].astype(str).apply(clean_number)\n",
    "\n",
    "# converting back to float\n",
    "df[\"Price\"] = df[\"Price\"].astype(float)\n",
    "\n",
    "# the same for mileage\n",
    "df[\"Mileage\"] = df[\"Mileage\"].astype(str).apply(clean_number)\n",
    "df[\"Mileage\"] = df[\"Mileage\"].astype(float)\n",
    "\n",
    "print(df.head(40))  \n",
    "print(df.dtypes)"
   ]
  },
  {
   "cell_type": "markdown",
   "id": "b0b5f57b",
   "metadata": {},
   "source": [
    "**1.2 (2 pts)**: Check if there are nan values in the Dataframe. If there are, try to find out which row is problematic and fix it. If you can't fix it, drop the row."
   ]
  },
  {
   "cell_type": "code",
   "execution_count": 6,
   "id": "a1197b0a",
   "metadata": {},
   "outputs": [
    {
     "name": "stdout",
     "output_type": "stream",
     "text": [
      "Price        1\n",
      "Age          1\n",
      "Mileage      2\n",
      "FuelType     1\n",
      "HP           1\n",
      "MetColor     1\n",
      "Automatic    1\n",
      "CC           1\n",
      "Doors        1\n",
      "Weight       1\n",
      "Currency     1\n",
      "dtype: int64\n",
      "       Price   Age  Mileage FuelType    HP  MetColor  Automatic      CC  \\\n",
      "905      NaN   NaN      NaN      NaN   NaN       NaN        NaN     NaN   \n",
      "1369  7127.0  80.0      NaN   Petrol  86.0       0.0        0.0  1300.0   \n",
      "\n",
      "      Doors  Weight Currency  \n",
      "905     NaN     NaN      NaN  \n",
      "1369    3.0  1015.0      CHF  \n"
     ]
    }
   ],
   "source": [
    "\n",
    "\n",
    "# number of NaN in each column\n",
    "print(df.isnull().sum())\n",
    "\n",
    "# rows with NaN\n",
    "print(df[df.isnull().any(axis=1)])\n"
   ]
  },
  {
   "cell_type": "markdown",
   "id": "88680058",
   "metadata": {},
   "source": [
    "There are only 2 rows with NaN, so we can just drop them."
   ]
  },
  {
   "cell_type": "code",
   "execution_count": 7,
   "id": "34e1e1ef",
   "metadata": {},
   "outputs": [],
   "source": [
    "df = df.dropna()"
   ]
  },
  {
   "cell_type": "markdown",
   "id": "303e0f76",
   "metadata": {},
   "source": [
    "**1.3 (4 pts): Compute the mean, median of the `Price` column.**\n",
    "\n",
    "- Compute the mean and median of the `Price` column. If you encounter error, try to understand why this error is happening and propose a solution.\n",
    "\n",
    "Hint: Is all values in the `Price` column numerical?\n"
   ]
  },
  {
   "cell_type": "code",
   "execution_count": 8,
   "id": "5d7b18e2",
   "metadata": {},
   "outputs": [
    {
     "name": "stdout",
     "output_type": "stream",
     "text": [
      "Price Mean: 9437.50\n",
      "Price Median: 8595.00\n"
     ]
    }
   ],
   "source": [
    "\n",
    "# mean \n",
    "price_mean = df[\"Price\"].mean()\n",
    "print(f\"Price Mean: {price_mean:.2f}\")\n",
    "\n",
    "\n",
    "# median \n",
    "price_median = df[\"Price\"].median()\n",
    "print(f\"Price Median: {price_median:.2f}\")"
   ]
  },
  {
   "cell_type": "markdown",
   "id": "62a727c9",
   "metadata": {},
   "source": [
    "**1.4 (4 pts): Convert Units**\n",
    "\n",
    "You notice that some prices are in CHF (Swiss Francs), while others are in EUR (Euros) or GBP (British Pounds). Additionally, for cars priced in GBP, the mileage is in miles rather than kilometers.\n",
    "\n",
    "For consistency, convert all prices to EUR and all distances to kilometers.\n",
    "\n",
    "- Exchange rates:\n",
    "  - 1 CHF = 1.05 EUR\n",
    "  - 1 GBP = 1.15 EUR\n",
    "  - 1 mile = 1.61 km\n",
    "\n",
    "Make the following conversions:\n",
    "1. Convert prices in CHF or GBP to EUR, rounding to the nearest integer.\n",
    "2. Convert distances in miles (for GBP cars) to kilometers, rounding to the nearest integer.\n",
    "3. Drop the 'Currency' column.\n",
    "4. Calculate the min, mean, median and max of the 'Price' and 'Distance' columns after the conversion."
   ]
  },
  {
   "cell_type": "code",
   "execution_count": 9,
   "id": "b4fc4a86",
   "metadata": {},
   "outputs": [
    {
     "name": "stdout",
     "output_type": "stream",
     "text": [
      "     Price   Age  Mileage FuelType    HP  MetColor  Automatic      CC  Doors  \\\n",
      "0  13500.0  23.0  46986.0   Diesel  90.0       1.0        0.0  2000.0    3.0   \n",
      "1  12472.0  23.0  72937.0   Diesel  90.0       1.0        0.0  2000.0    3.0   \n",
      "2  12652.0  24.0  41711.0   Diesel  90.0       1.0        0.0  2000.0    3.0   \n",
      "3  13560.0  26.0  48000.0   Diesel  90.0       0.0        0.0  2000.0    3.0   \n",
      "4  12472.0  30.0  38500.0   Diesel  90.0       0.0        0.0  2000.0    3.0   \n",
      "\n",
      "   Weight Currency  \n",
      "0  1165.0      EUR  \n",
      "1  1165.0      EUR  \n",
      "2  1165.0      EUR  \n",
      "3  1165.0      EUR  \n",
      "4  1170.0      EUR  \n"
     ]
    }
   ],
   "source": [
    "\n",
    "\n",
    "# iterate and find rows with the currency value other than EUR\n",
    "for index, row in df.iterrows():\n",
    "    if row[\"Currency\"] == \"CHF\":\n",
    "        df.at[index, \"Price\"] = round(row[\"Price\"] * 1.05)  \n",
    "\n",
    "    # if currency is GBP then apart from converting the price, we need to convert the mileage (kilometrage?)\n",
    "    elif row[\"Currency\"] == \"GBP\":\n",
    "        df.at[index, \"Price\"] = round(row[\"Price\"] * 1.15)  \n",
    "        df.at[index, \"Mileage\"] = round(row[\"Mileage\"] * 1.61)  \n",
    "\n",
    "\n",
    "# eveything is now in EUR\n",
    "df[\"Currency\"] = \"EUR\"\n",
    "\n",
    "print(df.head())"
   ]
  },
  {
   "cell_type": "code",
   "execution_count": 10,
   "id": "fa6602a6",
   "metadata": {},
   "outputs": [
    {
     "name": "stdout",
     "output_type": "stream",
     "text": [
      "Price Min: 3946.00\n",
      "Price Mean: 9876.06\n",
      "Price Median: 9025.00\n",
      "Price Max: 29478.00\n",
      "Mileage Min: 1.00\n",
      "Mileage Mean: 68563.36\n",
      "Mileage Median: 63455.00\n",
      "Mileage Max: 243000.00\n"
     ]
    }
   ],
   "source": [
    "# but also now the EUR column is useless\n",
    "df = df.drop(columns=[\"Currency\"])\n",
    "\n",
    "\n",
    "price_min = df[\"Price\"].min()\n",
    "price_mean = df[\"Price\"].mean()\n",
    "price_median = df[\"Price\"].median()\n",
    "price_max = df[\"Price\"].max()\n",
    "\n",
    "mileage_min = df[\"Mileage\"].min()\n",
    "mileage_mean = df[\"Mileage\"].mean()\n",
    "mileage_median = df[\"Mileage\"].median()\n",
    "mileage_max = df[\"Mileage\"].max()\n",
    "\n",
    "print(f\"Price Min: {price_min:.2f}\")\n",
    "print(f\"Price Mean: {price_mean:.2f}\")\n",
    "print(f\"Price Median: {price_median:.2f}\")\n",
    "print(f\"Price Max: {price_max:.2f}\")\n",
    "\n",
    "print(f\"Mileage Min: {mileage_min:.2f}\")\n",
    "print(f\"Mileage Mean: {mileage_mean:.2f}\")\n",
    "print(f\"Mileage Median: {mileage_median:.2f}\")\n",
    "print(f\"Mileage Max: {mileage_max:.2f}\")\n"
   ]
  },
  {
   "cell_type": "code",
   "execution_count": 11,
   "id": "c4064bdf",
   "metadata": {},
   "outputs": [
    {
     "name": "stdout",
     "output_type": "stream",
     "text": [
      "      Price   Age   Mileage FuelType    HP  MetColor  Automatic      CC  \\\n",
      "190  3946.0  44.0  158320.0   Diesel  69.0       0.0        0.0  1800.0   \n",
      "\n",
      "     Doors  Weight  \n",
      "190    5.0  1110.0  \n",
      "        Price   Age  Mileage FuelType     HP  MetColor  Automatic      CC  \\\n",
      "1435   6304.0  76.0      1.0   Petrol  110.0       0.0        0.0  1600.0   \n",
      "600    6803.0  50.0      1.0   Diesel   90.0       1.0        0.0  2000.0   \n",
      "168   16141.0   9.0      1.0   Petrol   98.0       1.0        0.0  1400.0   \n",
      "116   16236.0   7.0      1.0   Petrol  110.0       1.0        0.0  1600.0   \n",
      "169   16549.0   9.0      1.0   Petrol  110.0       1.0        0.0  1600.0   \n",
      "184   16549.0   1.0      1.0   Petrol  110.0       1.0        0.0  1600.0   \n",
      "183   17795.0   1.0      1.0   Petrol   98.0       1.0        0.0  1400.0   \n",
      "108   29478.0   4.0      1.0   Diesel  116.0       0.0        0.0  2000.0   \n",
      "\n",
      "      Doors  Weight  \n",
      "1435    5.0  1114.0  \n",
      "600     3.0  1260.0  \n",
      "168     4.0  1065.0  \n",
      "116     3.0  1105.0  \n",
      "169     5.0  1075.0  \n",
      "184     5.0  1075.0  \n",
      "183     4.0  1100.0  \n",
      "108     5.0  1480.0  \n"
     ]
    }
   ],
   "source": [
    "# entry with the lowest price\n",
    "print(df[df[\"Price\"] == price_min])\n",
    "# entry with the minimum mileage, sorted by price\n",
    "print(df[df[\"Mileage\"] == mileage_min].sort_values(by=\"Price\"))\n"
   ]
  },
  {
   "cell_type": "markdown",
   "id": "a0cf32bd",
   "metadata": {},
   "source": [
    "**1.5 (2 pts): Analyze Average Price**\n",
    "\n",
    "A.  Print the average price for each fuel type. Determine which fuel type has the highest average price.\n",
    "\n",
    "B.  Print the average price for different numbers of doors. Determine which number of doors has the highest average price."
   ]
  },
  {
   "cell_type": "code",
   "execution_count": 12,
   "id": "31e405cd",
   "metadata": {},
   "outputs": [
    {
     "name": "stdout",
     "output_type": "stream",
     "text": [
      "FuelType\n",
      "CNG        8752.18\n",
      "Diesel    10366.50\n",
      "Petrol     9830.96\n",
      "Name: Price, dtype: float64\n",
      "\n",
      "Doors\n",
      "2.0     7347.00\n",
      "3.0     9310.03\n",
      "4.0     9024.30\n",
      "5.0    10578.64\n",
      "Name: Price, dtype: float64\n"
     ]
    }
   ],
   "source": [
    "\n",
    "\n",
    "# average price per fuel type\n",
    "print(df.groupby(\"FuelType\")[\"Price\"].mean().round(2))\n",
    "print()\n",
    "# average price per number of doors\n",
    "print(df.groupby(\"Doors\")[\"Price\"].mean().round(2))\n",
    "\n"
   ]
  },
  {
   "cell_type": "markdown",
   "id": "14411d1e",
   "metadata": {},
   "source": [
    "So Diesel cars are generally more expensive, followed by Petrol, and CNG the cheapest.\n",
    "\n",
    "Interestingly, 5-door (usual sedan, kombi, suv type) cars are generally the most expensive, more expensive than 3-door cars (coupe). Usually, in car lingo, 2-door means the same as 3-door, and 4-door would be 5-door, but since in the data it is written in different ways, we can actually see and examine the \"discrepancies\". On top of that, this coupe vs sedan/kombi debate doesn't matter in this case because it's all Toyota Corolla xd\n",
    "so not really a sports car"
   ]
  },
  {
   "cell_type": "markdown",
   "id": "f9fa4698",
   "metadata": {},
   "source": [
    "**1.6 (2 pts): Relationship Between Car Age and Price**\n",
    "\n",
    "It is intuitive that an older car tends to be cheaper, and a car with more mileage might also be less expensive. \n",
    "\n",
    "To explore this intuition, create two scatter plots:\n",
    "1. Car Age vs Price\n",
    "2. Mileage vs Price"
   ]
  },
  {
   "cell_type": "code",
   "execution_count": 13,
   "id": "c1ac6aee",
   "metadata": {},
   "outputs": [
    {
     "data": {
      "image/png": "[encoded data removed]",
      "text/plain": [
       "<Figure size 640x480 with 1 Axes>"
      ]
     },
     "metadata": {},
     "output_type": "display_data"
    }
   ],
   "source": [
    "# scatter plot of car age vs price\n",
    "plt.scatter(df[\"Age\"], df[\"Price\"])\n",
    "plt.xlabel(\"Car Age\")\n",
    "plt.ylabel(\"Price\")\n",
    "plt.title(\"Car Age vs Price\")\n",
    "plt.show()\n"
   ]
  },
  {
   "cell_type": "code",
   "execution_count": 14,
   "id": "c1860ba5",
   "metadata": {},
   "outputs": [
    {
     "data": {
      "image/png": "[encoded data removed]",
      "text/plain": [
       "<Figure size 640x480 with 1 Axes>"
      ]
     },
     "metadata": {},
     "output_type": "display_data"
    }
   ],
   "source": [
    "# scatter plot of mileage vs price\n",
    "plt.scatter(df[\"Mileage\"], df[\"Price\"])\n",
    "plt.xlabel(\"Mileage\")\n",
    "plt.ylabel(\"Price\")\n",
    "plt.title(\"Car Mileage vs Price\")\n",
    "plt.show()\n"
   ]
  },
  {
   "cell_type": "markdown",
   "id": "0f6531d1",
   "metadata": {},
   "source": [
    "**1.7 (4 pts): Correlation Between Price and Mileage**\n",
    "\n",
    "The relationship between car price and mileage appears non-linear, with a steeper price drop initially followed by a flatter curve.\n",
    "\n",
    "A.(2 pts)  Calculate both the Pearson and Spearman correlations between the price of the car and the distance driven.\n"
   ]
  },
  {
   "cell_type": "code",
   "execution_count": 15,
   "id": "718ca9aa",
   "metadata": {},
   "outputs": [
    {
     "name": "stdout",
     "output_type": "stream",
     "text": [
      "Pearson correlation between price and mileage: -0.56\n",
      "Spearman correlation between price and mileage: -0.61\n"
     ]
    }
   ],
   "source": [
    "\n",
    "\n",
    "pearson_corr = df[\"Price\"].corr(df[\"Mileage\"])\n",
    "print(f\"Pearson correlation between price and mileage: {pearson_corr:.2f}\")\n",
    "\n",
    "\n",
    "spearman_corr = df[\"Price\"].corr(df[\"Mileage\"], method=\"spearman\")\n",
    "print(f\"Spearman correlation between price and mileage: {spearman_corr:.2f}\")\n"
   ]
  },
  {
   "cell_type": "markdown",
   "id": "ee3638a1",
   "metadata": {},
   "source": [
    "\n",
    "B.(2 pts)  Which correlation value is higher? Does this result align with your expectations?"
   ]
  },
  {
   "cell_type": "markdown",
   "id": "addf1654",
   "metadata": {},
   "source": [
    "Your Response:\n",
    "//**//\n",
    "\n",
    "The Spearman correlation shows a slightly more negative correlation between the car price and its mileage. Even though the values are not THAT different, seeing that the relationship is somewhat non-linear and slightly curved, the Spearman correlation metric could be showing the \"truer\" correlation, as it doesn't assume linearity, like Pearson does. So given our data, everything makes sense.\n"
   ]
  },
  {
   "cell_type": "markdown",
   "id": "4827d3d8",
   "metadata": {},
   "source": [
    "## Part 2 Linear Regression (30 pts)\n",
    "\n",
    "You want to build a linear regression model to predict the price of a car based on the features you have.\n",
    "\n"
   ]
  },
  {
   "cell_type": "markdown",
   "id": "058120ef",
   "metadata": {},
   "source": [
    "**2.0 (8 pts) Helper functions**\n",
    "\n",
    "Before building the linear regression model, you need to implement some helper functions.\n",
    "\n",
    " Implement the `accuracy` , `precision`, `recall` and `f1_score` functions. \n",
    "\n",
    "1. These functions should take in the true labels(`np.array`) and the predicted labels(`np.array`) and return the corresponding metric. \n",
    "2. They should follow the convention that the positive class is 1 and the negative class is 0.\n",
    "3. Apply the functions to the following data:\n",
    "\n",
    "```python\n",
    "true_labels = np.array([1, 0, 1, 1, 0, 1, 0, 0, 1, 0])\n",
    "predicted_labels = np.array([1, 1, 1, 1, 0, 0, 1, 0, 1, 0])\n",
    "```\n",
    "\n",
    "- Compare the results with the implementation in `sklearn` and see if they match."
   ]
  },
  {
   "cell_type": "code",
   "execution_count": 16,
   "id": "7e5cff50",
   "metadata": {},
   "outputs": [
    {
     "name": "stdout",
     "output_type": "stream",
     "text": [
      "Accuracy: 0.7\n",
      "Precision: 0.6666666666666666\n",
      "Recall: 0.8\n",
      "F1 Score: 0.7272727272727272\n",
      "\n",
      "Sklearn Metrics:\n",
      "Accuracy: 0.7\n",
      "Precision: 0.6666666666666666\n",
      "Recall: 0.8\n",
      "F1 Score: 0.7272727272727272\n"
     ]
    }
   ],
   "source": [
    "\n",
    "\n",
    "from sklearn.metrics import accuracy_score, precision_score, recall_score, f1_score\n",
    "\n",
    "def accuracy(true, pred):\n",
    "    correct = np.sum(true == pred)\n",
    "    return correct / len(true)\n",
    "\n",
    "def precision(true, pred):\n",
    "    # true is 1 and predicted is 1\n",
    "    TP = np.sum((true == 1) & (pred == 1))\n",
    "    # true is 0 but predicted is 1\n",
    "    FP = np.sum((true == 0) & (pred == 1))\n",
    "    if TP + FP == 0:\n",
    "        return 0.0\n",
    "    return TP / (TP + FP)\n",
    "\n",
    "def recall(true, pred):\n",
    "    # true is 1 and predicted is 1\n",
    "    TP = np.sum((true == 1) & (pred == 1))\n",
    "    # true is 1 but predicted is 0\n",
    "    FN = np.sum((true == 1) & (pred == 0))\n",
    "    if TP + FN == 0:\n",
    "        return 0.0\n",
    "    return TP / (TP + FN)\n",
    "\n",
    "def f1_score_manual(true, pred):\n",
    "\n",
    "    p = precision(true, pred)\n",
    "    r = recall(true, pred)\n",
    "    if p + r == 0:\n",
    "        return 0.0\n",
    "    return 2 * p * r / (p + r)\n",
    "\n",
    "\n",
    "true_labels = np.array([1, 0, 1, 1, 0, 1, 0, 0, 1, 0])\n",
    "predicted_labels = np.array([1, 1, 1, 1, 0, 0, 1, 0, 1, 0])\n",
    "\n",
    "acc = accuracy(true_labels, predicted_labels)\n",
    "prec = precision(true_labels, predicted_labels)\n",
    "rec = recall(true_labels, predicted_labels)\n",
    "f1 = f1_score_manual(true_labels, predicted_labels)\n",
    "\n",
    "print(\"Accuracy:\", acc)\n",
    "print(\"Precision:\", prec)\n",
    "print(\"Recall:\", rec)\n",
    "print(\"F1 Score:\", f1)\n",
    "\n",
    "# sklearn for comparison\n",
    "sklearn_acc = accuracy_score(true_labels, predicted_labels)\n",
    "sklearn_prec = precision_score(true_labels, predicted_labels)\n",
    "sklearn_rec = recall_score(true_labels, predicted_labels)\n",
    "sklearn_f1 = f1_score(true_labels, predicted_labels)\n",
    "\n",
    "print(\"\\nSklearn Metrics:\")\n",
    "print(\"Accuracy:\", sklearn_acc)\n",
    "print(\"Precision:\", sklearn_prec)\n",
    "print(\"Recall:\", sklearn_rec)\n",
    "print(\"F1 Score:\", sklearn_f1)\n",
    "\n",
    "\n",
    "\n",
    "\n",
    "\n"
   ]
  },
  {
   "cell_type": "markdown",
   "id": "06e49af9",
   "metadata": {},
   "source": [
    "\n",
    "**2.1 (6 pts) Preprocess the Data**\n",
    "\n",
    "To prepare your data for building a linear regression model, complete the following steps:\n",
    "\n",
    "A.(1 pts) Convert the categorical variables to one-hot encoding using the `pd.get_dummies()` function, how many columns do you have after the one-hot encoding? (P.S. You may want to avoid introducing multicollinearity with one-hot encoding, what should you do to avoid this?)\n"
   ]
  },
  {
   "cell_type": "code",
   "execution_count": 17,
   "id": "8f65013a",
   "metadata": {},
   "outputs": [
    {
     "name": "stdout",
     "output_type": "stream",
     "text": [
      "Total number of columns after one-hot encoding: 11\n"
     ]
    }
   ],
   "source": [
    "\n",
    "# use drop_first=True to avoid multicollinearity\n",
    "df_encoded = pd.get_dummies(df, drop_first=True)\n",
    "print(\"Total number of columns after one-hot encoding:\", df.shape[1] + 1)"
   ]
  },
  {
   "cell_type": "markdown",
   "id": "15f24e26",
   "metadata": {},
   "source": [
    "B.(1 pts) Split the data into features (X) and target (y) variables. The target variable is the 'Price' column. Then split the data into train test sets using a 80-20 split. Use `random_state=42` for reproducibility. How many samples are in the training set and how many samples are in the test set?\n"
   ]
  },
  {
   "cell_type": "code",
   "execution_count": 18,
   "id": "9f3ea52d",
   "metadata": {},
   "outputs": [
    {
     "name": "stdout",
     "output_type": "stream",
     "text": [
      "Number of training samples: 1147\n",
      "Number of test samples: 287\n"
     ]
    }
   ],
   "source": [
    "\n",
    "from sklearn.model_selection import train_test_split\n",
    "X = df_encoded.drop('Price', axis=1)\n",
    "y = df_encoded['Price']\n",
    "\n",
    "X_train, X_test, y_train, y_test = train_test_split(X, y, test_size=0.2, random_state=42)\n",
    "\n",
    "print(\"Number of training samples:\", X_train.shape[0])\n",
    "print(\"Number of test samples:\", X_test.shape[0])\n"
   ]
  },
  {
   "cell_type": "markdown",
   "id": "f6992805",
   "metadata": {},
   "source": [
    "C.(1 pts) Why do we split the data into only train-test sets but not train-validation-test sets? "
   ]
  },
  {
   "cell_type": "markdown",
   "id": "038285f4",
   "metadata": {},
   "source": [
    "Your Response:\n",
    "because splitting a part of the set for validation is not needed, as we can do cross validation on the training set instead, which provides a sufficient estimate for how the model handles unseen data."
   ]
  },
  {
   "cell_type": "markdown",
   "id": "fe1b8bdf",
   "metadata": {},
   "source": [
    "D.(1 pts) **Standardize the Features**: Use `StandardScaler` from `sklearn.preprocessing` and then add a constant column using `sm.add_constant()`. Print the average and standard deviation of the training set after standardization."
   ]
  },
  {
   "cell_type": "code",
   "execution_count": 19,
   "id": "0743e6d6",
   "metadata": {},
   "outputs": [
    {
     "name": "stdout",
     "output_type": "stream",
     "text": [
      "Feature means (should be close to 0):\n",
      "Age: -7.43e-17\n",
      "Mileage: 3.72e-17\n",
      "HP: -4.15e-16\n",
      "MetColor: -1.34e-16\n",
      "Automatic: -9.29e-18\n",
      "CC: -3.56e-16\n",
      "Doors: 3.44e-16\n",
      "Weight: 1.55e-16\n",
      "FuelType_Diesel: 5.11e-17\n",
      "FuelType_Petrol: 1.16e-16\n",
      "\n",
      "Feature standard deviations:\n",
      "Age: 1.00e+00\n",
      "Mileage: 1.00e+00\n",
      "HP: 1.00e+00\n",
      "MetColor: 1.00e+00\n",
      "Automatic: 1.00e+00\n",
      "CC: 1.00e+00\n",
      "Doors: 1.00e+00\n",
      "Weight: 1.00e+00\n",
      "FuelType_Diesel: 1.00e+00\n",
      "FuelType_Petrol: 1.00e+00\n"
     ]
    }
   ],
   "source": [
    "\n",
    "from sklearn.preprocessing import StandardScaler\n",
    "\n",
    "scaler = StandardScaler()\n",
    "X_train_scaled = scaler.fit_transform(X_train)\n",
    "\n",
    "X_train_scaled_df = pd.DataFrame(X_train_scaled, columns=X_train.columns, index=X_train.index)\n",
    "\n",
    "X_train_final = sm.add_constant(X_train_scaled_df)\n",
    "\n",
    "# Print the mean and standard deviation for each feature (excluding the constant column)\n",
    "print(\"Feature means (should be close to 0):\")\n",
    "means = np.mean(X_train_final.drop('const', axis=1), axis=0)\n",
    "for feature, mean in means.items():\n",
    "    print(f\"{feature}: {mean:.2e}\")\n",
    "\n",
    "print(\"\\nFeature standard deviations:\")\n",
    "std_devs = np.std(X_train_final.drop('const', axis=1), axis=0)\n",
    "for feature, std in std_devs.items():\n",
    "    print(f\"{feature}: {std:.2e}\")"
   ]
  },
  {
   "cell_type": "markdown",
   "id": "ebec9402",
   "metadata": {},
   "source": [
    "E.(2 pts) Should we first standardize the data and then split it into train and test sets or vice versa?   why?"
   ]
  },
  {
   "cell_type": "markdown",
   "id": "49dfe2b6",
   "metadata": {},
   "source": [
    "Your Response:\n",
    "we have to split and then standardize over the parameters (mean, std) which we got from the training data because otherwise if we use test data to transform training data we end up with biased performance estimates. \n",
    "//**//"
   ]
  },
  {
   "cell_type": "markdown",
   "id": "012c220d",
   "metadata": {},
   "source": [
    "**2.2 (10 pts) Train and Evaluate the Linear Regression Model**\n",
    "\n",
    "To train a linear regression model using and evaluate its performance, follow these steps:\n",
    "\n",
    "1. (2 pts) Train a linear regression model on the training dataset using `sm.OLS` from `statsmodels`, print the summary of the model using `model.summary()`.\n"
   ]
  },
  {
   "cell_type": "code",
   "execution_count": 20,
   "id": "0f4b338d",
   "metadata": {},
   "outputs": [
    {
     "name": "stdout",
     "output_type": "stream",
     "text": [
      "                            OLS Regression Results                            \n",
      "==============================================================================\n",
      "Dep. Variable:                  Price   R-squared:                       0.854\n",
      "Model:                            OLS   Adj. R-squared:                  0.853\n",
      "Method:                 Least Squares   F-statistic:                     665.0\n",
      "Date:                Mon, 17 Feb 2025   Prob (F-statistic):               0.00\n",
      "Time:                        15:34:09   Log-Likelihood:                -9852.2\n",
      "No. Observations:                1147   AIC:                         1.973e+04\n",
      "Df Residuals:                    1136   BIC:                         1.978e+04\n",
      "Df Model:                          10                                         \n",
      "Covariance Type:            nonrobust                                         \n",
      "===================================================================================\n",
      "                      coef    std err          t      P>|t|      [0.025      0.975]\n",
      "-----------------------------------------------------------------------------------\n",
      "const            9907.0427     38.589    256.735      0.000    9831.330    9982.756\n",
      "Age             -2077.9257     53.695    -38.699      0.000   -2183.278   -1972.573\n",
      "Mileage          -520.3352     54.593     -9.531      0.000    -627.449    -413.221\n",
      "HP                670.6064     95.481      7.023      0.000     483.267     857.946\n",
      "MetColor           48.9020     38.951      1.255      0.210     -27.521     125.325\n",
      "Automatic          -1.5567     40.189     -0.039      0.969     -80.410      77.297\n",
      "CC               -604.6807    110.116     -5.491      0.000    -820.734    -388.628\n",
      "Doors             -38.9149     42.896     -0.907      0.365    -123.080      45.250\n",
      "Weight           1143.8070     75.434     15.163      0.000     995.801    1291.813\n",
      "FuelType_Diesel   593.9120    180.338      3.293      0.001     240.080     947.744\n",
      "FuelType_Petrol   325.6260    125.709      2.590      0.010      78.979     572.273\n",
      "==============================================================================\n",
      "Omnibus:                      150.779   Durbin-Watson:                   1.881\n",
      "Prob(Omnibus):                  0.000   Jarque-Bera (JB):             1596.887\n",
      "Skew:                          -0.101   Prob(JB):                         0.00\n",
      "Kurtosis:                       8.777   Cond. No.                         10.6\n",
      "==============================================================================\n",
      "\n",
      "Notes:\n",
      "[1] Standard Errors assume that the covariance matrix of the errors is correctly specified.\n"
     ]
    }
   ],
   "source": [
    "\n",
    "import statsmodels.api as sm\n",
    "# linear reg with ordinary least squares\n",
    "model = sm.OLS(y_train, X_train_final)\n",
    "results = model.fit()\n",
    "\n",
    "print(results.summary())\n"
   ]
  },
  {
   "cell_type": "markdown",
   "id": "d5e4bdce",
   "metadata": {},
   "source": [
    "2. (2 pts) Evaluate the model on the test dataset using the square root of the mean squared error (RMSE) metric. \n",
    "   1. Report the RMSE value.\n",
    "   2. Your boss wants to know how far off the model's predictions are from the actual price of the car. What would you tell him? Given a number and explain how you got it.\n"
   ]
  },
  {
   "cell_type": "code",
   "execution_count": 21,
   "id": "7936208b",
   "metadata": {},
   "outputs": [
    {
     "name": "stdout",
     "output_type": "stream",
     "text": [
      "Test RMSE: 1363.0788173075287\n"
     ]
    }
   ],
   "source": [
    "\n",
    "import numpy as np\n",
    "from sklearn.metrics import mean_squared_error\n",
    "\n",
    "# test set transformed using the same scaler from the training set \n",
    "X_test_scaled = scaler.transform(X_test)\n",
    "X_test_scaled_df = pd.DataFrame(X_test_scaled, columns=X_test.columns, index=X_test.index)\n",
    "X_test_final = sm.add_constant(X_test_scaled_df)\n",
    "\n",
    "y_pred = results.predict(X_test_final)\n",
    "\n",
    "# RMSE\n",
    "rmse = np.sqrt(mean_squared_error(y_test, y_pred))\n",
    "print(\"Test RMSE:\", rmse)"
   ]
  },
  {
   "cell_type": "markdown",
   "id": "92955c02",
   "metadata": {},
   "source": [
    "Your Response:\n",
    "\n",
    "1363 euro rmse value so on average the price prediction deviates from the actual car price by that much.\n",
    "//**//"
   ]
  },
  {
   "cell_type": "markdown",
   "id": "39a1de71",
   "metadata": {},
   "source": [
    "3. (2 pts) Report the R² score on the test dataset and interpret it.\n"
   ]
  },
  {
   "cell_type": "code",
   "execution_count": 22,
   "id": "a1a4355f",
   "metadata": {},
   "outputs": [
    {
     "name": "stdout",
     "output_type": "stream",
     "text": [
      "Test R² score: 0.8169576884808535\n"
     ]
    }
   ],
   "source": [
    "\n",
    "from sklearn.metrics import r2_score\n",
    "\n",
    "r2 = r2_score(y_test, y_pred)\n",
    "print(\"Test R² score:\", r2)"
   ]
  },
  {
   "cell_type": "markdown",
   "id": "4fe57aee",
   "metadata": {},
   "source": [
    "Your Response:\n",
    "\n",
    "approximately 81.6% of the variance in prices is due to the model features, that also relatively matches the summary print from earlier where we have 85.4% and generally means that we have very notable fit.\n",
    "//**//"
   ]
  },
  {
   "cell_type": "markdown",
   "id": "d9191203",
   "metadata": {},
   "source": [
    "4.  (2 pts) Which features are statistically significant at a 5% significance level? "
   ]
  },
  {
   "cell_type": "code",
   "execution_count": 23,
   "id": "782d34e6",
   "metadata": {},
   "outputs": [
    {
     "name": "stdout",
     "output_type": "stream",
     "text": [
      "['const', 'Age', 'Mileage', 'HP', 'CC', 'Weight', 'FuelType_Diesel', 'FuelType_Petrol']\n"
     ]
    }
   ],
   "source": [
    "\n",
    "\n",
    "significant_features = results.pvalues[results.pvalues < 0.05].index.tolist()\n",
    "print(significant_features)\n",
    "\n",
    "# we already have this information match in the printed summary as well. "
   ]
  },
  {
   "cell_type": "markdown",
   "id": "8eff41e0",
   "metadata": {},
   "source": [
    "5.  (2 pts) Determine which two feature have the highest coefficient? What does it imply?"
   ]
  },
  {
   "cell_type": "code",
   "execution_count": 24,
   "id": "97ef4c8e",
   "metadata": {},
   "outputs": [
    {
     "name": "stdout",
     "output_type": "stream",
     "text": [
      "Top two features with highest absolute coefficients:\n",
      "Age: -2077.9257200190546\n",
      "Weight: 1143.8070233694045\n"
     ]
    }
   ],
   "source": [
    "# remove the constant coefficient\n",
    "coefficients = results.params.drop('const')\n",
    "\n",
    "# sort using absolute value\n",
    "top_two = coefficients.abs().sort_values(ascending=False).head(2)\n",
    "\n",
    "# display top 2\n",
    "print(\"Top two features with highest absolute coefficients:\")\n",
    "for feature in top_two.index:\n",
    "    print(f\"{feature}: {coefficients[feature]}\")"
   ]
  },
  {
   "cell_type": "markdown",
   "id": "7dd51a86",
   "metadata": {},
   "source": [
    "Your Response:\n",
    "age and weight have highest coefficients and it means that an additional year on a car would decrease its value by 2077.92 euros and an aditional unit of weight would increase the price by 1143.80 euro on average\n",
    "\n",
    "these are the features which need to be most considered when interpreting the model results \n",
    "//**//"
   ]
  },
  {
   "cell_type": "markdown",
   "id": "9af624b8",
   "metadata": {},
   "source": [
    "**2.3 (2 pts): Improvement Discussion**\n",
    "\n",
    "- Suggest a few additional features that could potentially explain this remaining variance in the data ( at least 2 features)."
   ]
  },
  {
   "cell_type": "markdown",
   "id": "81d36c87",
   "metadata": {},
   "source": [
    "Your Response:\n",
    "we see more low p-values for horse power (HP) and engine size (CC) so they are significant features that explain some of the remaining variance\n",
    "//**//"
   ]
  },
  {
   "cell_type": "markdown",
   "id": "94ca03f3",
   "metadata": {},
   "source": [
    "**2.4 (2 pts): Identifying Confounding Variables**\n",
    "\n",
    "The feature \"Weight\" shows a very low p-value and a high coefficient, but it doesn't seem to be a major factor for customers buying a second-hand car. You go to your mentor Jerasimosu to discuss this issue. Indeed, Jerasimosu suggests that never in his career has he seen a customer who asked for the weight of a car before buying it.\n",
    "You suspect that there might be a confounding variable that is correlated with the car's weight and significantly influences its price.\n",
    "\n",
    "- Suggest a possible confounding variable that may be correlated with the car's weight and significantly influence its price (it doesn't need to be a variable in the dataset). Explain why this variable could be a confounding variable."
   ]
  },
  {
   "cell_type": "markdown",
   "id": "c677c957",
   "metadata": {},
   "source": [
    "Your Response:\n",
    "you don't necessarily need specific a skillset in data science, in our case since its relatively easy to extrapolate that it is the engine size which directly influences the car weight, as well as being a factor that is considered important by car-buyers\n",
    "\n",
    "its a confounding variable because it influences both dependent and independent vars and CC -> Weight as well as CC -> Price whilst at the same time Weight -> Price so it happens that it becomes difficult to determine whether a car is expensive because its heavy or because it has a large engine\n",
    "//**//"
   ]
  },
  {
   "cell_type": "markdown",
   "id": "0c2854b8",
   "metadata": {},
   "source": [
    "**2.5 (2 pts): Adding an Inverse Mileage Term**\n",
    "\n",
    "From the previous scatter plot, the relationship between car price and mileage appears non-linear, with a steep price drop initially and then a flattening. A suitable approach to model this behavior is by incorporating an inverse term of mileage.\n",
    "\n",
    "- Add the inverse mileage term to the model and retrain it using the code provided. Print the model summary and interpret the effect of the inverse mileage term."
   ]
  },
  {
   "cell_type": "code",
   "execution_count": 25,
   "id": "8a4b261e",
   "metadata": {},
   "outputs": [
    {
     "name": "stdout",
     "output_type": "stream",
     "text": [
      "                            OLS Regression Results                            \n",
      "==============================================================================\n",
      "Dep. Variable:                  Price   R-squared:                       0.855\n",
      "Model:                            OLS   Adj. R-squared:                  0.854\n",
      "Method:                 Least Squares   F-statistic:                     608.4\n",
      "Date:                Mon, 17 Feb 2025   Prob (F-statistic):               0.00\n",
      "Time:                        15:34:09   Log-Likelihood:                -9848.6\n",
      "No. Observations:                1147   AIC:                         1.972e+04\n",
      "Df Residuals:                    1135   BIC:                         1.978e+04\n",
      "Df Model:                          11                                         \n",
      "Covariance Type:            nonrobust                                         \n",
      "===================================================================================\n",
      "                      coef    std err          t      P>|t|      [0.025      0.975]\n",
      "-----------------------------------------------------------------------------------\n",
      "const            9907.0427     38.485    257.428      0.000    9831.534    9982.552\n",
      "Age             -2072.8376     53.584    -38.684      0.000   -2177.973   -1967.702\n",
      "Mileage          -536.9139     54.798     -9.798      0.000    -644.431    -429.397\n",
      "HP                660.6400     95.297      6.932      0.000     473.662     847.618\n",
      "MetColor           47.6110     38.849      1.226      0.221     -28.612     123.834\n",
      "Automatic          -7.4575     40.142     -0.186      0.853     -86.218      71.303\n",
      "CC               -604.3902    109.819     -5.504      0.000    -819.862    -388.919\n",
      "Doors             -44.4342     42.831     -1.037      0.300    -128.470      39.602\n",
      "Weight           1171.0921     75.920     15.425      0.000    1022.132    1320.052\n",
      "FuelType_Diesel   583.6900    179.893      3.245      0.001     230.730     936.650\n",
      "FuelType_Petrol   324.0258    125.372      2.585      0.010      78.040     570.012\n",
      "Inverse_Mileage  -105.6719     39.539     -2.673      0.008    -183.250     -28.094\n",
      "==============================================================================\n",
      "Omnibus:                      145.947   Durbin-Watson:                   1.883\n",
      "Prob(Omnibus):                  0.000   Jarque-Bera (JB):             1507.734\n",
      "Skew:                          -0.030   Prob(JB):                         0.00\n",
      "Kurtosis:                       8.616   Cond. No.                         10.6\n",
      "==============================================================================\n",
      "\n",
      "Notes:\n",
      "[1] Standard Errors assume that the covariance matrix of the errors is correctly specified.\n"
     ]
    }
   ],
   "source": [
    "\n",
    "df_encoded['Inverse_Mileage'] = 1 / df_encoded['Mileage']\n",
    "\n",
    "# update feature set \n",
    "X_extended = df_encoded.drop('Price', axis=1)\n",
    "y_extended = df_encoded['Price']\n",
    "X_train_ext, X_test_ext, y_train_ext, y_test_ext = train_test_split(X_extended, y_extended, test_size=0.2, random_state=42)\n",
    "\n",
    "scaler_ext = StandardScaler()\n",
    "X_train_ext_scaled = scaler_ext.fit_transform(X_train_ext)\n",
    "X_train_ext_scaled_df = pd.DataFrame(X_train_ext_scaled, columns=X_train_ext.columns, index=X_train_ext.index)\n",
    "\n",
    "X_train_ext_final = sm.add_constant(X_train_ext_scaled_df)\n",
    "\n",
    "model_ext = sm.OLS(y_train_ext, X_train_ext_final)\n",
    "results_ext = model_ext.fit()\n",
    "\n",
    "\n",
    "print(results_ext.summary())\n"
   ]
  },
  {
   "cell_type": "markdown",
   "id": "9ee21320",
   "metadata": {},
   "source": [
    "the additional term has a coefficient of -105.67 which explains the steep drop in price that is present for low milage levels \n",
    "\n",
    "the linear term gives insight into the negative correlation between milage and price and the inverse specifically accounts for the non-linear behavior where small increases in milage from a low baseline lead to too much of a drastic drop in price"
   ]
  },
  {
   "cell_type": "markdown",
   "id": "1a3c61dc",
   "metadata": {},
   "source": [
    "## Part 3 Supervised Learning (40 pts)\n",
    "\n",
    "\n",
    "After completing your analysis, you're satisfied with the results. You handed the Jupyter notebook over to your mentor.\n",
    "\n",
    "(Fun fact: The name \"Jupyter\" is derived from Julia, Python, and R—three programming languages that the platform was originally designed for.) (cool)\n",
    "\n",
    "Your mentor Jerasimosu is very impressed with your work and asks you the following question:\n",
    "\n",
    "“\n",
    "This looks great! It will be very useful for our sales team. While looking at the results, I realized that there might be one thing that we can improve. \n",
    "For companies like us, it is important to sell the cars quickly. If we are patient, we might be able to sell the car for a higher price, but that’s not always the best strategy. We need to consider the maintenance costs for the car, the cash flow and the fact that the price of the car decreases over time.\"\n",
    "\n",
    "He then continues:\n",
    "\"Three months is a sweet spot for us. If we can sell the car within the first three months, it is great. If not, it is worth considering lowering the price to sell it faster and increase our cash flow. I can ask Ivan from Sales to collect data in the last few months on whether the car was sold within the first three months or not. This would be great if you could have a model that tells us if the car will be sold in the first three months or not. \"\n",
    "\n",
    "This sparks your interest, and soon Ivan has provided you with the new data containing an additional column `sold_within_3_months` which is a binary variable indicating whether the car was sold within the first three months or not.\n",
    "\n",
    "Note: The data for this part is in the file `Task3.ToyotaCorolla_sales_3months.csv` and it has already unified the currency and distance units."
   ]
  },
  {
   "cell_type": "code",
   "execution_count": 26,
   "id": "5371de93",
   "metadata": {},
   "outputs": [
    {
     "name": "stdout",
     "output_type": "stream",
     "text": [
      "   Price  Age     KM FuelType  HP  MetColor  Automatic    CC  Doors  Weight  \\\n",
      "0  13500   23  46986   Diesel  90         1          0  2000      3    1165   \n",
      "1  13750   23  72937   Diesel  90         1          0  2000      3    1165   \n",
      "2  13950   24  41711   Diesel  90         1          0  2000      3    1165   \n",
      "3  14950   26  48000   Diesel  90         0          0  2000      3    1165   \n",
      "4  13750   30  38500   Diesel  90         0          0  2000      3    1170   \n",
      "\n",
      "   sold_within_3_months  \n",
      "0                     0  \n",
      "1                     0  \n",
      "2                     0  \n",
      "3                     0  \n",
      "4                     0  \n",
      "\n",
      "Total number of columns:  12\n"
     ]
    }
   ],
   "source": [
    "data_df = pd.read_csv('data/Task3.ToyotaCorolla_sales_3months.csv', index_col=0)\n",
    "print(data_df.head())\n",
    "print(\"\\nTotal number of columns: \",data_df.shape[1] + 1)"
   ]
  },
  {
   "cell_type": "markdown",
   "id": "87af3424",
   "metadata": {},
   "source": [
    "\n",
    "**3.1 (2 pts): Preprocess the Data**\n",
    "- （1 pts）How many cars in the dataset were sold in the first three months, and how many were not? "
   ]
  },
  {
   "cell_type": "code",
   "execution_count": 27,
   "id": "714cefb1",
   "metadata": {},
   "outputs": [
    {
     "name": "stdout",
     "output_type": "stream",
     "text": [
      "Number of cars sold within 3 months: 880.\n",
      "\n",
      "Number of cars not sold within 3 months: 556.\n"
     ]
    }
   ],
   "source": [
    "\n",
    "data_df_3m = (data_df[\"sold_within_3_months\"] == 1).sum()\n",
    "print(f\"Number of cars sold within 3 months: {data_df_3m}.\")\n",
    "print(f\"\\nNumber of cars not sold within 3 months: {data_df.shape[0] - data_df_3m}.\")"
   ]
  },
  {
   "cell_type": "markdown",
   "id": "eb49dc91",
   "metadata": {},
   "source": [
    "- (1 pts) Preprocess the categorical variables to one-hot encoding using the `pd.get_dummies()` function."
   ]
  },
  {
   "cell_type": "code",
   "execution_count": 28,
   "id": "e9ca7824",
   "metadata": {},
   "outputs": [
    {
     "name": "stdout",
     "output_type": "stream",
     "text": [
      "Total number of columns after one-hot encoding: 13\n"
     ]
    }
   ],
   "source": [
    "\n",
    "df_encoded = pd.get_dummies(data_df, drop_first=True)\n",
    "print(\"Total number of columns after one-hot encoding:\", df_encoded.shape[1] + 1)"
   ]
  },
  {
   "cell_type": "markdown",
   "id": "1449cf1c",
   "metadata": {},
   "source": [
    "**3.2 (20 pts):  Logistic Regression Model**\n",
    "1. (2 pts) Split the data into features (X) and target (y) variables. The target variable is the 'sold_within_3_months' column. The `Price` column should be included as a feature."
   ]
  },
  {
   "cell_type": "code",
   "execution_count": 29,
   "id": "bda17a69",
   "metadata": {},
   "outputs": [],
   "source": [
    "X = df_encoded.drop('sold_within_3_months', axis=1)\n",
    "y = df_encoded['sold_within_3_months']"
   ]
  },
  {
   "cell_type": "markdown",
   "id": "28393827",
   "metadata": {},
   "source": [
    "2. (2 pts) Then split the data into train test sets using a 80-20 split. Use `random_state=42` for reproducibility. "
   ]
  },
  {
   "cell_type": "code",
   "execution_count": 30,
   "id": "7416161f",
   "metadata": {},
   "outputs": [],
   "source": [
    "X_train, X_test, y_train, y_test = train_test_split(X, y, test_size=0.2, random_state=420)"
   ]
  },
  {
   "cell_type": "markdown",
   "id": "d43f0fbf",
   "metadata": {},
   "source": [
    "3. (2 pts) Standardize the features using `StandardScaler` from `sklearn.preprocessing` and then add a constant column using `sm.add_constant()`."
   ]
  },
  {
   "cell_type": "code",
   "execution_count": 31,
   "id": "16bfc69e",
   "metadata": {},
   "outputs": [
    {
     "name": "stdout",
     "output_type": "stream",
     "text": [
      "Feature means (should be close to 0):\n",
      "Price: 7.50e-17\n",
      "Age: -1.33e-16\n",
      "KM: -3.40e-17\n",
      "HP: 2.71e-16\n",
      "MetColor: 8.97e-17\n",
      "Automatic: -2.79e-17\n",
      "CC: -2.85e-16\n",
      "Doors: 4.05e-16\n",
      "Weight: 9.01e-16\n",
      "FuelType_Diesel: -4.64e-18\n",
      "FuelType_Petrol: -1.47e-16\n",
      "\n",
      "Feature standard deviations:\n",
      "Price: 1.00e+00\n",
      "Age: 1.00e+00\n",
      "KM: 1.00e+00\n",
      "HP: 1.00e+00\n",
      "MetColor: 1.00e+00\n",
      "Automatic: 1.00e+00\n",
      "CC: 1.00e+00\n",
      "Doors: 1.00e+00\n",
      "Weight: 1.00e+00\n",
      "FuelType_Diesel: 1.00e+00\n",
      "FuelType_Petrol: 1.00e+00\n"
     ]
    }
   ],
   "source": [
    "scaler = StandardScaler()\n",
    "X_train_scaled = scaler.fit_transform(X_train)\n",
    "X_train_scaled_df = pd.DataFrame(X_train_scaled, columns=X_train.columns, index=X_train.index)\n",
    "X_train_final = sm.add_constant(X_train_scaled_df)\n",
    "\n",
    "X_test_scaled = scaler.transform(X_test)\n",
    "X_test_scaled_df = pd.DataFrame(X_test_scaled, columns=X_test.columns, index=X_test.index)\n",
    "X_test_final = sm.add_constant(X_test_scaled_df)\n",
    "\n",
    "# Print the mean and standard deviation for each feature (excluding the constant column)\n",
    "print(\"Feature means (should be close to 0):\")\n",
    "means = np.mean(X_train_final.drop('const', axis=1), axis=0)\n",
    "for feature, mean in means.items():\n",
    "    print(f\"{feature}: {mean:.2e}\")\n",
    "\n",
    "print(\"\\nFeature standard deviations:\")\n",
    "std_devs = np.std(X_train_final.drop('const', axis=1), axis=0)\n",
    "for feature, std in std_devs.items():\n",
    "    print(f\"{feature}: {std:.2e}\")"
   ]
  },
  {
   "cell_type": "markdown",
   "id": "1b7029f6",
   "metadata": {},
   "source": [
    "4. (2 pts) Fit a logistic regression model on the training dataset. Feel free to use either `statsmodels` or `sklearn`."
   ]
  },
  {
   "cell_type": "code",
   "execution_count": 32,
   "id": "4d7e52e6",
   "metadata": {},
   "outputs": [
    {
     "name": "stdout",
     "output_type": "stream",
     "text": [
      "Optimization terminated successfully.\n",
      "         Current function value: 0.162673\n",
      "         Iterations 10\n",
      "                            Logit Regression Results                            \n",
      "================================================================================\n",
      "Dep. Variable:     sold_within_3_months   No. Observations:                 1148\n",
      "Model:                            Logit   Df Residuals:                     1136\n",
      "Method:                             MLE   Df Model:                           11\n",
      "Date:                  Mon, 17 Feb 2025   Pseudo R-squ.:                  0.7572\n",
      "Time:                          15:34:09   Log-Likelihood:                -186.75\n",
      "converged:                         True   LL-Null:                       -769.17\n",
      "Covariance Type:              nonrobust   LLR p-value:                6.106e-243\n",
      "===================================================================================\n",
      "                      coef    std err          z      P>|z|      [0.025      0.975]\n",
      "-----------------------------------------------------------------------------------\n",
      "const              -0.4717      0.168     -2.814      0.005      -0.800      -0.143\n",
      "Price              -9.9702      0.896    -11.132      0.000     -11.726      -8.215\n",
      "Age                -0.2722      0.315     -0.864      0.388      -0.890       0.346\n",
      "KM                 -0.3688      0.212     -1.742      0.082      -0.784       0.046\n",
      "HP                 -1.5958      0.680     -2.346      0.019      -2.929      -0.262\n",
      "MetColor            0.1582      0.130      1.216      0.224      -0.097       0.413\n",
      "Automatic          -0.2742      0.125     -2.199      0.028      -0.519      -0.030\n",
      "CC                  1.3562      0.679      1.997      0.046       0.025       2.687\n",
      "Doors              -0.1905      0.161     -1.181      0.238      -0.507       0.126\n",
      "Weight              0.1500      0.373      0.403      0.687      -0.580       0.880\n",
      "FuelType_Diesel    -2.1660      1.231     -1.759      0.079      -4.579       0.247\n",
      "FuelType_Petrol    -0.3445      0.901     -0.382      0.702      -2.111       1.422\n",
      "===================================================================================\n",
      "\n",
      "Possibly complete quasi-separation: A fraction 0.22 of observations can be\n",
      "perfectly predicted. This might indicate that there is complete\n",
      "quasi-separation. In this case some parameters will not be identified.\n"
     ]
    }
   ],
   "source": [
    "model = sm.Logit(y_train, X_train_final) # using statsmodels logistc regression\n",
    "results = model.fit()\n",
    "\n",
    "print(results.summary())"
   ]
  },
  {
   "cell_type": "markdown",
   "id": "e0c3b275",
   "metadata": {},
   "source": [
    "5. (2 pts) Evaluate the model on the test dataset using the accuracy score metric. Report the accuracy score."
   ]
  },
  {
   "cell_type": "code",
   "execution_count": 33,
   "id": "2152d2dc",
   "metadata": {},
   "outputs": [
    {
     "name": "stdout",
     "output_type": "stream",
     "text": [
      "Test accuracy: 0.9270833333333334\n"
     ]
    }
   ],
   "source": [
    "y_pred = (results.predict(X_test_final) > 0.5).astype(int)\n",
    "accuracy = accuracy_score(y_test, y_pred)\n",
    "print(\"Test accuracy:\", accuracy)"
   ]
  },
  {
   "cell_type": "markdown",
   "id": "07b5d10b",
   "metadata": {},
   "source": [
    "6. (2 pts) Calculate the precision, recall, and F1-score."
   ]
  },
  {
   "cell_type": "code",
   "execution_count": 34,
   "id": "93ef377c",
   "metadata": {},
   "outputs": [
    {
     "name": "stdout",
     "output_type": "stream",
     "text": [
      "Precision: 0.9402173913043478\n",
      "Recall: 0.9453551912568307\n",
      "F1 Score: 0.9427792915531336\n"
     ]
    }
   ],
   "source": [
    "# using our helper functions\n",
    "prec = precision(y_test, y_pred)\n",
    "rec = recall(y_test, y_pred)\n",
    "f1 = f1_score_manual(y_test, y_pred)\n",
    "\n",
    "print(\"Precision:\", prec)\n",
    "print(\"Recall:\", rec)\n",
    "print(\"F1 Score:\", f1)"
   ]
  },
  {
   "cell_type": "markdown",
   "id": "b83bb422",
   "metadata": {},
   "source": [
    "7. (2 pts) Suppose that your company is running short on cash flow and needs to sell the cars quickly, for example by running some offer (special discount on cars). But which ones? How should you adjust the threshold for the decision boundary of the logistic regression model to ensure that the company can sell the cars as quickly as possible?\n",
    "    - A. Increase the threshold\n",
    "    - B. Decrease the threshold\n",
    "\n",
    "In a more general sense, how does the choice of threshold affect the precision and recall of the model?"
   ]
  },
  {
   "cell_type": "code",
   "execution_count": 35,
   "id": "56b410aa",
   "metadata": {},
   "outputs": [
    {
     "name": "stdout",
     "output_type": "stream",
     "text": [
      "Threshold 0.8\n",
      "Precision: 0.975609756097561\n",
      "Recall: 0.8743169398907104\n",
      "\n",
      "Threshold 0.2\n",
      "Precision: 0.8955223880597015\n",
      "Recall: 0.9836065573770492\n"
     ]
    }
   ],
   "source": [
    "# let's try it out and see how it really affect the results\n",
    "y_pred = (results.predict(X_test_final) > 0.8).astype(int) # higher threshold would mean less positive predictions (less cars to be sold before 3 months)\n",
    "accuracy = accuracy_score(y_test, y_pred)\n",
    "prec = precision(y_test, y_pred)\n",
    "rec = recall(y_test, y_pred)\n",
    "print(\"Threshold 0.8\")\n",
    "print(\"Precision:\", prec)\n",
    "print(\"Recall:\", rec)\n",
    "\n",
    "y_pred = (results.predict(X_test_final) > 0.2).astype(int) # lower threshold would mean more positive predictions (more cars to be sold before 3 months)\n",
    "accuracy = accuracy_score(y_test, y_pred)\n",
    "prec = precision(y_test, y_pred)\n",
    "rec = recall(y_test, y_pred)\n",
    "print(\"\\nThreshold 0.2\")\n",
    "print(\"Precision:\", prec)\n",
    "print(\"Recall:\", rec)"
   ]
  },
  {
   "cell_type": "markdown",
   "id": "e1951dc8",
   "metadata": {},
   "source": [
    "Your Response:\n",
    "A higher threshold gives better precision and worse recall, lower threshold produces the opposite results (better recall, worse precision). This is because a high treshold flags only the cars it's very sure about (good precision) but might miss some true positives, low treshold is more general with its prediction so it will include more of the true positives (good recall) but also flag positive wrong cars.\n",
    "\n",
    "I would say that we would need to increase the treshold, this way the model will classify as likely to sell quickly only the cars with a very high probabilty. To all the other cars the retailer can apply the special offer which will help them sell more, as desired.\n",
    "\n",
    "//**//"
   ]
  },
  {
   "cell_type": "markdown",
   "id": "f77a1414",
   "metadata": {},
   "source": [
    "8. (6 pts) Try to find the optimal threshold that maximizes the F1-score. Implement any kind of method you see fit (e.g. binary search or grid search). What is the optimal threshold and what difference does the optimal threshold make in the F1-score?\n",
    "\n",
    "If you notice anything odd, report it and try to identify the reasons behind it."
   ]
  },
  {
   "cell_type": "code",
   "execution_count": 36,
   "id": "ecc90348",
   "metadata": {
    "scrolled": true
   },
   "outputs": [
    {
     "name": "stdout",
     "output_type": "stream",
     "text": [
      "Optimal Threshold: 0.61\n",
      "Best F1-Score: 0.9529085872576177\n"
     ]
    },
    {
     "data": {
      "image/png": "[encoded data removed]",
      "text/plain": [
       "<Figure size 1000x600 with 1 Axes>"
      ]
     },
     "metadata": {},
     "output_type": "display_data"
    }
   ],
   "source": [
    "thresholds = np.arange(0, 1, 0.01)\n",
    "f1_scores = []\n",
    "\n",
    "# Loop over each threshold to do a grid search\n",
    "for t in thresholds:\n",
    "    y_pred = (results.predict(X_test_final) > t).astype(int)\n",
    "    f1 = f1_score(y_test, y_pred)\n",
    "    f1_scores.append(f1)\n",
    "\n",
    "# Find the best threshold\n",
    "best_index = np.argmax(f1_scores)\n",
    "best_threshold = thresholds[best_index]\n",
    "best_f1 = f1_scores[best_index]\n",
    "\n",
    "print(\"Optimal Threshold:\", best_threshold)\n",
    "print(\"Best F1-Score:\", best_f1)\n",
    "\n",
    "# Plotting the results\n",
    "plt.figure(figsize=(10, 6))\n",
    "plt.plot(thresholds, f1_scores, marker='o', linestyle='-', color='b')\n",
    "plt.xlabel(\"Threshold\")\n",
    "plt.ylabel(\"F1 Score\")\n",
    "plt.title(\"F1 Score vs. Decision Threshold\")\n",
    "plt.axvline(x=best_threshold, color='r', linestyle='--', label=f'Best Threshold: {best_threshold:.2f}')\n",
    "plt.legend()\n",
    "plt.grid(True)\n",
    "plt.show()"
   ]
  },
  {
   "cell_type": "markdown",
   "id": "4690bb47",
   "metadata": {},
   "source": [
    "One odd thing is that the f1 stays high even if the threshold is at it's extremes, expecially near 0. This might mean that our model makes near perfect prediction, it might as well mean that the model is overfitting or that the dataset is very imbalanced."
   ]
  },
  {
   "cell_type": "markdown",
   "id": "53796e48",
   "metadata": {},
   "source": [
    "**3.3(23 pts) Free model exploration**\n",
    "\n",
    "Use any model from `sklearn` to predict whether a car will be sold within the first three months.\n",
    "\n",
    "Follow these steps to complete the task:\n",
    "\n",
    "1. (2 pts) Train your own classifier model to predict the target variable (`sold_within_3_months`).You can reuse the train and test sets from the previous section. Set `random_state=42` for reproducibility if needed. At this stage no need to optimize (yet). That will come at step 4."
   ]
  },
  {
   "cell_type": "code",
   "execution_count": null,
   "id": "847d2270",
   "metadata": {},
   "outputs": [
    {
     "data": {
      "text/html": [
       "<style>#sk-container-id-3 {color: black;background-color: white;}#sk-container-id-3 pre{padding: 0;}#sk-container-id-3 div.sk-toggleable {background-color: white;}#sk-container-id-3 label.sk-toggleable__label {cursor: pointer;display: block;width: 100%;margin-bottom: 0;padding: 0.3em;box-sizing: border-box;text-align: center;}#sk-container-id-3 label.sk-toggleable__label-arrow:before {content: \"▸\";float: left;margin-right: 0.25em;color: #696969;}#sk-container-id-3 label.sk-toggleable__label-arrow:hover:before {color: black;}#sk-container-id-3 div.sk-estimator:hover label.sk-toggleable__label-arrow:before {color: black;}#sk-container-id-3 div.sk-toggleable__content {max-height: 0;max-width: 0;overflow: hidden;text-align: left;background-color: #f0f8ff;}#sk-container-id-3 div.sk-toggleable__content pre {margin: 0.2em;color: black;border-radius: 0.25em;background-color: #f0f8ff;}#sk-container-id-3 input.sk-toggleable__control:checked~div.sk-toggleable__content {max-height: 200px;max-width: 100%;overflow: auto;}#sk-container-id-3 input.sk-toggleable__control:checked~label.sk-toggleable__label-arrow:before {content: \"▾\";}#sk-container-id-3 div.sk-estimator input.sk-toggleable__control:checked~label.sk-toggleable__label {background-color: #d4ebff;}#sk-container-id-3 div.sk-label input.sk-toggleable__control:checked~label.sk-toggleable__label {background-color: #d4ebff;}#sk-container-id-3 input.sk-hidden--visually {border: 0;clip: rect(1px 1px 1px 1px);clip: rect(1px, 1px, 1px, 1px);height: 1px;margin: -1px;overflow: hidden;padding: 0;position: absolute;width: 1px;}#sk-container-id-3 div.sk-estimator {font-family: monospace;background-color: #f0f8ff;border: 1px dotted black;border-radius: 0.25em;box-sizing: border-box;margin-bottom: 0.5em;}#sk-container-id-3 div.sk-estimator:hover {background-color: #d4ebff;}#sk-container-id-3 div.sk-parallel-item::after {content: \"\";width: 100%;border-bottom: 1px solid gray;flex-grow: 1;}#sk-container-id-3 div.sk-label:hover label.sk-toggleable__label {background-color: #d4ebff;}#sk-container-id-3 div.sk-serial::before {content: \"\";position: absolute;border-left: 1px solid gray;box-sizing: border-box;top: 0;bottom: 0;left: 50%;z-index: 0;}#sk-container-id-3 div.sk-serial {display: flex;flex-direction: column;align-items: center;background-color: white;padding-right: 0.2em;padding-left: 0.2em;position: relative;}#sk-container-id-3 div.sk-item {position: relative;z-index: 1;}#sk-container-id-3 div.sk-parallel {display: flex;align-items: stretch;justify-content: center;background-color: white;position: relative;}#sk-container-id-3 div.sk-item::before, #sk-container-id-3 div.sk-parallel-item::before {content: \"\";position: absolute;border-left: 1px solid gray;box-sizing: border-box;top: 0;bottom: 0;left: 50%;z-index: -1;}#sk-container-id-3 div.sk-parallel-item {display: flex;flex-direction: column;z-index: 1;position: relative;background-color: white;}#sk-container-id-3 div.sk-parallel-item:first-child::after {align-self: flex-end;width: 50%;}#sk-container-id-3 div.sk-parallel-item:last-child::after {align-self: flex-start;width: 50%;}#sk-container-id-3 div.sk-parallel-item:only-child::after {width: 0;}#sk-container-id-3 div.sk-dashed-wrapped {border: 1px dashed gray;margin: 0 0.4em 0.5em 0.4em;box-sizing: border-box;padding-bottom: 0.4em;background-color: white;}#sk-container-id-3 div.sk-label label {font-family: monospace;font-weight: bold;display: inline-block;line-height: 1.2em;}#sk-container-id-3 div.sk-label-container {text-align: center;}#sk-container-id-3 div.sk-container {/* jupyter's `normalize.less` sets `[hidden] { display: none; }` but bootstrap.min.css set `[hidden] { display: none !important; }` so we also need the `!important` here to be able to override the default hidden behavior on the sphinx rendered scikit-learn.org. See: https://github.com/scikit-learn/scikit-learn/issues/21755 */display: inline-block !important;position: relative;}#sk-container-id-3 div.sk-text-repr-fallback {display: none;}</style><div id=\"sk-container-id-3\" class=\"sk-top-container\"><div class=\"sk-text-repr-fallback\"><pre>DecisionTreeClassifier(random_state=42)</pre><b>In a Jupyter environment, please rerun this cell to show the HTML representation or trust the notebook. <br />On GitHub, the HTML representation is unable to render, please try loading this page with nbviewer.org.</b></div><div class=\"sk-container\" hidden><div class=\"sk-item\"><div class=\"sk-estimator sk-toggleable\"><input class=\"sk-toggleable__control sk-hidden--visually\" id=\"sk-estimator-id-3\" type=\"checkbox\" checked><label for=\"sk-estimator-id-3\" class=\"sk-toggleable__label sk-toggleable__label-arrow\">DecisionTreeClassifier</label><div class=\"sk-toggleable__content\"><pre>DecisionTreeClassifier(random_state=42)</pre></div></div></div></div></div>"
      ],
      "text/plain": [
       "DecisionTreeClassifier(random_state=42)"
      ]
     },
     "execution_count": 47,
     "metadata": {},
     "output_type": "execute_result"
    }
   ],
   "source": [
    "from sklearn.tree import DecisionTreeClassifier\n",
    "model = DecisionTreeClassifier(random_state=42)\n",
    "model.fit(X_train_final, y_train)"
   ]
  },
  {
   "cell_type": "markdown",
   "id": "339e84a7",
   "metadata": {},
   "source": [
    "2. (2 pts) Evaluate the model on the test set and report on hyperparameters or other details of the algorithm you chose."
   ]
  },
  {
   "cell_type": "code",
   "execution_count": 53,
   "id": "f91de524",
   "metadata": {},
   "outputs": [
    {
     "name": "stdout",
     "output_type": "stream",
     "text": [
      "DecisionTreeClassifier\n",
      "Accuracy: 0.8784722222222222\n",
      "Precision: 0.9065934065934066\n",
      "Recall: 0.9016393442622951\n",
      "F1 Score: 0.904109589041096\n",
      "\n",
      "Hyperparameters:\n",
      "{'ccp_alpha': 0.0, 'class_weight': None, 'criterion': 'gini', 'max_depth': None, 'max_features': None, 'max_leaf_nodes': None, 'min_impurity_decrease': 0.0, 'min_samples_leaf': 1, 'min_samples_split': 2, 'min_weight_fraction_leaf': 0.0, 'random_state': 42, 'splitter': 'best'}\n"
     ]
    }
   ],
   "source": [
    "y_pred = model.predict(X_test_final)\n",
    "accuracy = accuracy_score(y_test, y_pred)\n",
    "prec = precision(y_test, y_pred)\n",
    "rec = recall(y_test, y_pred)\n",
    "f1 = f1_score(y_test, y_pred)\n",
    "\n",
    "print(\"DecisionTreeClassifier\")\n",
    "print(\"Accuracy:\", accuracy)\n",
    "print(\"Precision:\", prec)\n",
    "print(\"Recall:\", rec)\n",
    "print(\"F1 Score:\", f1)\n",
    "\n",
    "# Output the hyperparameters here are gonna be the default ones\n",
    "print(\"\\nHyperparameters:\")\n",
    "print(model.get_params())\n"
   ]
  },
  {
   "cell_type": "markdown",
   "id": "aeacddbc",
   "metadata": {},
   "source": [
    "3. (2 pts) Come up with a visualization (could be related to the model or to some variables (e.g. EDA plots) to demonstrate the difficulty (or not) of the problem. "
   ]
  },
  {
   "cell_type": "code",
   "execution_count": 55,
   "id": "3899ce00",
   "metadata": {},
   "outputs": [
    {
     "data": {
      "image/png": "[encoded data removed]",
      "text/plain": [
       "<Figure size 1500x600 with 10 Axes>"
      ]
     },
     "metadata": {},
     "output_type": "display_data"
    }
   ],
   "source": [
    "import seaborn as sns\n",
    "import math\n",
    "\n",
    "numeric_cols = data_df.select_dtypes(include=[np.number]).columns.tolist()\n",
    "if 'sold_within_3_months' in numeric_cols:\n",
    "    numeric_cols.remove('sold_within_3_months')\n",
    "\n",
    "num_plots = len(numeric_cols)\n",
    "ncols = 5 # Number of columns in the grid\n",
    "nrows = math.ceil(num_plots / ncols)\n",
    "\n",
    "fig, axes = plt.subplots(nrows=nrows, ncols=ncols, figsize=(15, 3*nrows))\n",
    "axes = axes.flatten() \n",
    "\n",
    "# Loop through numeric features and plot boxplots in subplots\n",
    "for i, col in enumerate(numeric_cols):\n",
    "    sns.boxplot(x='sold_within_3_months', y=col, data=data_df, ax=axes[i])\n",
    "    axes[i].set_title(f'{col} by sold_within_3_months')\n",
    "    axes[i].set_xlabel(\"sold_within_3_months\")\n",
    "    axes[i].set_ylabel(col)\n",
    "\n",
    "# Hide any unused subplots (if numeric_cols isn't a multiple of ncols*nrows)\n",
    "for j in range(i+1, len(axes)):\n",
    "    axes[j].set_visible(False)\n",
    "\n",
    "plt.tight_layout()\n",
    "plt.show()"
   ]
  },
  {
   "cell_type": "markdown",
   "id": "e6fc00cc",
   "metadata": {},
   "source": [
    "The two classes are often well divided which makes the classification problem easier and particurarly fit for."
   ]
  },
  {
   "cell_type": "markdown",
   "id": "294f27b0",
   "metadata": {},
   "source": [
    "4. (17 pts) Try to come up with a model that improves the results both in the previous seciton but also your baseline model in 3.1. Make to sure to properly evaluate the model. No need to provide a visualization here but feel free to add any supporting evidence to your modeling.\n",
    "\n",
    "Minimally (and for a high-grade) you should consider some form of regularization and proper cross-validation. \n",
    "\n",
    "Other things you can consider (in no particular order) are feature engineering, model robustness, hyperparameter tuning, ..."
   ]
  },
  {
   "cell_type": "code",
   "execution_count": 57,
   "id": "c23ea3be",
   "metadata": {},
   "outputs": [
    {
     "name": "stdout",
     "output_type": "stream",
     "text": [
      "DecisionTreeClassifier F1: 0.9121\n",
      "RandomForestClassifier F1: 0.9454\n",
      "GradientBoostingClassifier F1: 0.9405\n",
      "SVC F1: 0.9377\n",
      "KNeighborsClassifier F1: 0.9243\n",
      "GaussianNB F1: 0.9194\n",
      "MLPClassifier F1: 0.9402\n"
     ]
    },
    {
     "name": "stderr",
     "output_type": "stream",
     "text": [
      "c:\\Users\\yurim\\anaconda3\\envs\\UniMaas\\Lib\\site-packages\\sklearn\\neural_network\\_multilayer_perceptron.py:686: ConvergenceWarning: Stochastic Optimizer: Maximum iterations (200) reached and the optimization hasn't converged yet.\n",
      "  warnings.warn(\n"
     ]
    }
   ],
   "source": [
    "from sklearn.ensemble import RandomForestClassifier, GradientBoostingClassifier\n",
    "from sklearn.svm import SVC\n",
    "from sklearn.tree import DecisionTreeClassifier\n",
    "from sklearn.neighbors import KNeighborsClassifier\n",
    "from sklearn.naive_bayes import GaussianNB\n",
    "from sklearn.neural_network import MLPClassifier\n",
    "\n",
    "#Best F1-Score: 0.9529085872576177\n",
    "\n",
    "# I will try a few models, compare them over f1 score and chose the best one\n",
    "\n",
    "models = {\n",
    "    \"DecisionTreeClassifier\": DecisionTreeClassifier(),\n",
    "    \"RandomForestClassifier\": RandomForestClassifier(),\n",
    "    \"GradientBoostingClassifier\": GradientBoostingClassifier(),\n",
    "    \"SVC\": SVC(),\n",
    "    \"KNeighborsClassifier\": KNeighborsClassifier(),\n",
    "    \"GaussianNB\": GaussianNB(),\n",
    "    \"MLPClassifier\": MLPClassifier()\n",
    "}\n",
    "\n",
    "# Example usage: training each model on X_train, y_train\n",
    "for name, model in models.items():\n",
    "    model.fit(X_train_final, y_train)\n",
    "    y_pred = model.predict(X_test_final)   \n",
    "    f1 = f1_score(y_test, y_pred)\n",
    "    print(f\"{name} F1: {f1:.4f}\")\n"
   ]
  },
  {
   "cell_type": "code",
   "execution_count": null,
   "id": "3d2e30f0",
   "metadata": {},
   "outputs": [
    {
     "name": "stdout",
     "output_type": "stream",
     "text": [
      "Cross-validation F1 scores: [0.93189964 0.93040293 0.95       0.92682927 0.9390681 ]\n",
      "Mean F1: 0.9356399881262194\n",
      "Std F1: 0.008209843413630258\n",
      "\n",
      "Test F1: 0.9534246575342467\n",
      "Accuracy: 0.9409722222222222\n",
      "Precision: 0.9560439560439561\n",
      "Recall: 0.9508196721311475\n",
      "F1 Score: 0.9534246575342467\n"
     ]
    }
   ],
   "source": [
    "from sklearn.ensemble import RandomForestClassifier\n",
    "from sklearn.model_selection import cross_val_score\n",
    "from sklearn.metrics import make_scorer, f1_score\n",
    "import numpy as np\n",
    "\n",
    "# model initialization with chosen hyperparameters (regularization by limiting the depth and the complexity of the tree)\n",
    "model = RandomForestClassifier(\n",
    "    n_estimators=200,\n",
    "    min_samples_leaf=2, # limits the complexity of the tree by preventing to create small specific leaves\n",
    "    class_weight=\"balanced\",\n",
    "    max_depth=20,  # limiting the depth of the tree\n",
    "    random_state=42\n",
    ")\n",
    "\n",
    "# Evaluate with cross-validation (we also used it to tune the hyperparameters, expecially to find the number of trees and the max depth)\n",
    "# using the F1 metric for evaluation\n",
    "scores = cross_val_score(model, X_train_final, y_train, cv=5, scoring='f1')\n",
    "\n",
    "print(\"Cross-validation F1 scores:\", scores)\n",
    "print(\"Mean F1:\", np.mean(scores))\n",
    "print(\"Std F1:\", np.std(scores))\n",
    "\n",
    "# We can now train the model on the full training set\n",
    "model.fit(X_train_final, y_train)\n",
    "y_pred = model.predict(X_test_final)\n",
    "\n",
    "test_f1 = f1_score(y_test, y_pred)\n",
    "accuracy = accuracy_score(y_test, y_pred)\n",
    "prec = precision(y_test, y_pred)\n",
    "rec = recall(y_test, y_pred)\n",
    "f1 = f1_score(y_test, y_pred)\n",
    "\n",
    "print(\"\\nTest F1:\", test_f1)\n",
    "print(\"Accuracy:\", accuracy)\n",
    "print(\"Precision:\", prec)\n",
    "print(\"Recall:\", rec)\n",
    "print(\"F1 Score:\", f1)"
   ]
  },
  {
   "cell_type": "markdown",
   "id": "18a6aab1",
   "metadata": {},
   "source": [
    "To find the best model I trained a few of them and picked the one with the highest f1 score, which will be the metric I am basing most of my experiment on. I have found that the random forest is the best performing one. Then I have done cross validaiton to evaluate the model and to tune some hyperparameters of the model. I increased the number of trees, it trains very fast anyway and it shows to improve performance; increased the minimum sample leaf to reduce overfitting and set the max depth, these also serve as some sort of regularization for the model. Lastly I set the class weight to balanced to adjust the wrights because the data is slightly unbalanced as seen in point 3.1. It improved the model a bit, enough to perform a little bit better than the logistic regression."
   ]
  },
  {
   "cell_type": "markdown",
   "id": "89384315",
   "metadata": {},
   "source": [
    "## Part 4 The Aftermath (5 pts)\n",
    "\n",
    "Machine learning models are often evaluated based on accuracy, precision and recall, but these metrics do not always capture fairness. Fairness is a broader concept that depends on the context of the dataset and the decisions influenced by the model.\n",
    "\n",
    "For this last question, you are asked to reflect on what fairness means in the context of this problem. More specifically, identify potential fairness concerns (at least 2) and suggest how they could be measured or mitigated.\n",
    "Explain why fairness matters (or doesn’t) in this specific context.\n",
    "\n",
    "*Hint: Think of the whole pipeline of data science: data collection, modeling, evaluation and identify sources of where the model might be unfair.*\n"
   ]
  },
  {
   "cell_type": "markdown",
   "id": "5cd5ceda",
   "metadata": {},
   "source": [
    "Your Response:\n",
    "Fairness is important to ensure that a ML model to treat different individuals or groups equally. Fairness is about avoiding biases on specific subgroups (in this context it could be race, gender, or age, region or social class). \n",
    "\n",
    "The primary source of unfairness comes during data collection, it is here that beause of missing data, unbalanced sampling or other biases some groups are more represented than others. For example given the region the data was collected from some part of the population was sampled more, let's say the data comes from only richer neighbourhoods and for this reason the model might learn to values less cars from other underrepresented regions or demographics. Given we have data that gives information about the classs or other factor we could base our fairness groups on we could then resample to balance the data and fairly represent all classes.\n",
    "\n",
    "Some examples of potetian unfairness from our model.\n",
    "\n",
    "- For instance CNG cars might be sold more in urban areas because it is easier to find CNG distributors, the model might reflect those biases in price predictions and overvalue these cars because urban areas are on average more wealthy. \n",
    "- Some cars, coincidentally more in vogue within a specific disadvanteged social group, might more than usually be predicted to not sell withing 3 months and for this reason recieve less visibility. This could impact this group negatively and potetially increase the disadvantage as their cars get sold less.\n",
    "\n",
    "//**//"
   ]
  }
 ],
 "metadata": {
  "kernelspec": {
   "display_name": "UniMaas",
   "language": "python",
   "name": "python3"
  },
  "language_info": {
   "codemirror_mode": {
    "name": "ipython",
    "version": 3
   },
   "file_extension": ".py",
   "mimetype": "text/x-python",
   "name": "python",
   "nbconvert_exporter": "python",
   "pygments_lexer": "ipython3",
   "version": "3.11.4"
  }
 },
 "nbformat": 4,
 "nbformat_minor": 5
}
