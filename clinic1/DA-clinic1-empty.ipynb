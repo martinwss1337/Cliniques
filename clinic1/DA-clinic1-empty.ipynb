{
 "cells": [
  {
   "cell_type": "markdown",
   "id": "7e3a9aff",
   "metadata": {},
   "source": [
    "(Group: Clinic 1 70)\n",
    "\n",
    "(Martin Popov, Yuri Manna, Mateusz Zbos)\n",
    "\n",
    "(i6316814, i6316134, i6329847)"
   ]
  },
  {
   "cell_type": "markdown",
   "id": "5d5ab070",
   "metadata": {},
   "source": [
    "**Use of genAI tools (e.g. chatGPT), websites (e.g. stackoverflow)**: *list websites where you found code (or other info) as well as include information on how you used genAI tools*"
   ]
  },
  {
   "cell_type": "markdown",
   "id": "2a108445",
   "metadata": {},
   "source": [
    "# Data Analysis, Clinic 1\n",
    "# FIETS: Fundamentele Innovatie En Technologie in Scholing\n",
    "## Met FIETS blijft het onderwijs vooruitgaan, zelfs tegen de wind in!\n",
    "\n",
    "---\n",
    "\n",
    "By completing and delivering the clinic tasks you will know how to :\n",
    "\n",
    "- Load data and handle data using pandas;\n",
    "- Navigate the documentation of Python packages by yourself;\n",
    "- Filter and tidy up **noisy** real-world datasets;\n",
    "- Aggregate your data in different (and hopefully helpful) ways;\n",
    "- Use EDA to learn more about your data\n",
    "- Create and interpret informative visualizations to explore the data set\n",
    "- Derive meaningful insights for the societal impact of datasets\n",
    "\n",
    "---\n",
    "**Important Dates.**\n",
    "\n",
    "- Clinic 1 release: Thu 30 Jan 2024\n",
    "- Clinic 1 due: Fri 07 Feb 2024 late night, wildcards available\n",
    "\n",
    "**Instructions for the deliverable:**\n",
    "\n",
    "* You are allowed to use any built-in Python library that comes with Anaconda. If you want to use an external library, you may do so, but must justify your choice.\n",
    "\n",
    "* Make sure that you include a proper amount/mix of comments, results and code. More specifically, be sure to provide a concise textual description of your thought process, the assumptions you made, the solution you implemented, and explanations for your answers. A notebook that only has code cells will not suffice. To avoid confusion: use short comments for longer code answers.\n",
    "\n",
    "* For questions containing the /Discuss:/ prefix, answer not with code, but with a textual explanation (in markdown).\n",
    "\n",
    "* Back up any hypotheses and claims with data, since this is an important aspect of the course.\n",
    "\n",
    "* Please write all your comments in English, and use meaningful variable names (as possible) in your code. \n",
    "\n",
    "* In the end, make sure that all cells are executed properly and everything you need to show is in your (execucted) notebook. We will not run your notebook for you! \n",
    "\n",
    "- In continuation to the previous point, interactive plots, such as those generated using the ‘plotly’ package, should be strictly avoided! Make sure to print results and/or dataframes that confirm you have properly addressed the task.\n",
    "\n",
    "* You are asked to deliver **only your executed notebook file, .ipnyb** and nothing else. If you deliver other files, we will not grade anything.\n",
    "\n",
    "* Honor code applies to these tasks. If you are not certain about an action, consult with Jerry.\n",
    "\n",
    "**A Note from Jerry on using Language Models (LMs)**\n",
    "\n",
    "If you try hard enough, you will likely get away with cheating (that does not only apply to LMs). Fortunately, my job is not to police, but rather to educate you. So, please consider the following:\n",
    "\n",
    "I assume that you are taking this course to learn something! LMs are not always right ([they often fail in silly ways](https://community.openai.com/t/why-9-11-is-larger-than-9-9-incredible/869824/4)). This course should prepare you to detect when they are wrong!\n",
    "\n",
    "I don't restrict the use of LMs because I see the value of being helped when coding (esp. in the context of pandas dataframes nightmare :)). Based on what we saw last year in your notebooks, it's pretty clear when you \"copy\" some code and then you struggle to interpret the results. This is the essence of this course and of the skills you should try build for yourself: Many people can run fancy models these days but not many people can interpret the results correctly. Try to be the latter ones.\n",
    "\n",
    "---"
   ]
  },
  {
   "cell_type": "markdown",
   "id": "f9b54879",
   "metadata": {},
   "source": [
    "## Context\n",
    "\n",
    "AI is booming! Newspapers, influencers and your relatives all agree that AI is important. But while almost everyone agrees that AI is the future, much is unclear about what that future esp. in critical sectors like education looks like...\n",
    "\n",
    "Freshly graduated from a top Dutch university in Limburg, you are hired by the Dutch government to advise on a large-scale “education innovation” initiative code-named \"FIETS\" (Flexibele Innovatie voor Efficiënte Toepassing in Scholing). With higher education facing severe budget cuts, the government is looking for creative solutions to \"do more with less.\" Convinced by the stunning progress in language modeling, officials believe LLMs could help battle growing teacher shortages and reduce costs by automating parts of the education process. Your job description: investigate which LMs might be best suited to plug the gaps without draining the budget!\n",
    "\n",
    "You are handed the results of three LMs on the [“Massive Multitask Language Understanding (other)”](https://arxiv.org/abs/2009.03300) dataset  to compare. This famous dataset consists of 57 subjects with multiple-choice questions, covering diverse subjects like mathematics, computer science, history, and law. Most providers of state-of-the-art LMs use this dataset to showcase the versatility of their latest models. Unfortunately, the intern responsible for collecting the results, didn’t pay attention during DACS KEN3450: Data Analysis. As a result, the collected datasets are slightly corrupted. Jammer!\n",
    "\n",
    "The success of FIETS depends on your ability to make sense of the messy data and recommend the best model to keep the Dutch education system pedaling forward—despite uphill challenges like funding shortages and a skeptical academic community!\n",
    "\n",
    "### A very brief primer on Language Models\n",
    "We studied LLMs in the context of the NLP course but here is a short reminder. Language models (LMs) are sophisticated statistical models designed to understand and generate human-like text. At their core, LMs are trained to predict the most likely continuation of a given input text. For example, given the input \"The cat sat on the,\" an LM might predict \"mat\" as a likely continuation.\n",
    "LMs are trained on vast text samples from various sources, including books, websites, and social media. This extensive training allows them to capture patterns and relationships in language, enabling them to generate coherent and contextually appropriate text across a wide range of topics and styles.\n",
    "\n",
    "While LMs can produce text that appears to be written by intelligent humans, it's important to note that their capabilities can diverge from human intelligence in unexpected ways. They may sometimes generate factually incorrect information or struggle with complex reasoning tasks.\n",
    "\n",
    "Two key concepts in understanding LMs are:\n",
    "1. **Tokens**: LMs process text using \"tokens\" rather than individual characters. Tokens can be words, parts of words, or punctuation marks. For example, the sentence \"I love AI!\" might be tokenized as [\"I\", \"love\", \"AI\", \"!\"]. Tokenization is the first step in both training and using an LM.\n",
    "2. **Context**: The input text provided to an LM is called the \"context.\" This context informs the model's predictions or generations. A longer or more specific context often leads to more accurate and relevant outputs.\n",
    "\n",
    "[See: Wikipedia entry on language models](https://en.wikipedia.org/wiki/Large_language_model)\n",
    "\n",
    "###  Files for this assignment\n",
    "This assignment is divided into three tasks, each of which should bring you a step closer to providing a recommendation toward project the objectives of FIETS:\n",
    "\n",
    "- **Task 1**: Inspecting the results and getting your first model ranking\n",
    "- **Task 2**: Inspecting the underlying data used to generate the results for possible biases\n",
    "- **Task 3**: Learning about tokens and providing a final recommendation\n",
    "\n",
    "\n",
    "```\n",
    "📁 FIETS\n",
    "│\n",
    "├── 📄 clinic1.ipynb (the file you're currently reading!)\n",
    "│\n",
    "└── 📁 data\n",
    "    ├── 📁 task_1\n",
    "    ├── 📁 task_2\n",
    "    └── 📁 task_2.5\n",
    "```   \n",
    " "
   ]
  },
  {
   "cell_type": "code",
   "execution_count": 69,
   "id": "1c8fd700",
   "metadata": {},
   "outputs": [],
   "source": [
    "# some basic imports\n",
    "import os\n",
    "import pandas as pd\n",
    "import numpy as np\n",
    "import matplotlib.pyplot as plt\n",
    "import warnings\n",
    "from scipy.stats import ttest_ind"
   ]
  },
  {
   "cell_type": "markdown",
   "id": "bd2a7be4",
   "metadata": {},
   "source": [
    "## Task 1 (18 points): What's in an average anyway?\n",
    "\n",
    "The files needed to complete task 1 can be found in the folder \"`data/task_1/`:\n",
    "```\n",
    "task_1/\n",
    "│\n",
    "├── other_data/\n",
    "│   └── test.csv\n",
    "│\n",
    "└── lm_scores/\n",
    "    ├── lm_X.csv\n",
    "    ├── lm_Y.csv\n",
    "    └── lm_Z.csv\n",
    "```\n",
    "\n",
    "We will start by loading, (manually) inspecting, and cleaning the data. Although it doesn't seem \"glamorous\" (nor is it particularly fun...) - manually inspecting data is extremely important! In fact, it's one of the few things most AI and Data Science researchers agree on :). Next, we will take a first pass on ordering our Olympic podium between three LMs."
   ]
  },
  {
   "cell_type": "markdown",
   "id": "16518de6",
   "metadata": {},
   "source": [
    "### 1.1 (1 pt)\n",
    " \n",
    "Load the subfiles contained in the `other_data` and `lm_scores` folders into separate dataframes:\n",
    "- `df_test`\n",
    "- `df_x`\n",
    "- `df_y`\n",
    "- `df_z`\n",
    "\n",
    "for each, print their sizes."
   ]
  },
  {
   "cell_type": "code",
   "execution_count": 70,
   "id": "80eabdcb",
   "metadata": {},
   "outputs": [
    {
     "name": "stdout",
     "output_type": "stream",
     "text": [
      "df_test:  (14042, 8)\n",
      "df_x:  (13882, 2)\n",
      "df_y:  (13978, 2)\n",
      "df_z:  (13923, 2)\n"
     ]
    }
   ],
   "source": [
    "df_test = pd.read_csv('data/task_1/other_data/test.csv')\n",
    "\n",
    "f = 'data/task_1/lm_scores/'\n",
    "df_x = pd.read_csv(os.path.join(f, 'lm_X.csv'))\n",
    "df_y = pd.read_csv(os.path.join(f, 'lm_Y.csv'))\n",
    "df_z = pd.read_csv(os.path.join(f, 'lm_Z.csv'))\n",
    "\n",
    "print('df_test: ', df_test.shape)\n",
    "print('df_x: ', df_x.shape)\n",
    "print('df_y: ', df_y.shape)\n",
    "print('df_z: ', df_z.shape)"
   ]
  },
  {
   "cell_type": "markdown",
   "id": "da14c5e2",
   "metadata": {},
   "source": [
    "### 1.2 (4 pt)\n",
    "Unfortunately, LMs don't always output the format we want. In the column `result`, the value should be one of A, B, C, or D. \n",
    "\n",
    "A. For each of the LM score dataframes, use a `value_counts()` operation and print the results. \n",
    "\n",
    "B. /Discuss:/ Inspect the results and describe the types of answer formats you see. Besides the \"expected\" case, you should be able to find at least four unexpected formats."
   ]
  },
  {
   "cell_type": "code",
   "execution_count": 71,
   "id": "eeebdb42",
   "metadata": {},
   "outputs": [
    {
     "name": "stdout",
     "output_type": "stream",
     "text": [
      "Top 30 non-valid inputs in LM X:\n",
      "result\n",
      "ANSWER: A                                                                                                                                               1398\n",
      "ANSWER: B                                                                                                                                                760\n",
      "ANSWER: D                                                                                                                                                613\n",
      "ANSWER: C                                                                                                                                                594\n",
      "NOT SURE                                                                                                                                                  73\n",
      "NONE OF THE ABOVE                                                                                                                                         69\n",
      "WRONG, WRONG, SO THE ANSWER IS A                                                                                                                           4\n",
      "NO, BECAUSE LONG DID NOT HAVE AUTHORITY TO ENTER INTO THE CONTRACT., SO THE ANSWER IS D                                                                    1\n",
      "FOOD SURPLUSES, SPECIALISTS, URBAN SETTLEMENTS, AND A SYSTEM OF RECORD KEEPING, SO THE ANSWER IS A                                                         1\n",
      "PHILOSOPHY AND RELIGION., SO THE ANSWER IS B                                                                                                               1\n",
      "ACHEULEAN, SO THE ANSWER IS B                                                                                                                              1\n",
      "NEANDERTALS USED CAVES IN EUROPE WHERE THEIR REMAINS WERE PRESERVED., SO THE ANSWER IS B                                                                   1\n",
      "TRIBUTE IN THE FORM OF GOLD, JADE, FEATHERS, CLOTH, AND JEWELS., SO THE ANSWER IS A                                                                        1\n",
      "$480,000, SO THE ANSWER IS B                                                                                                                               1\n",
      "$100,000, SO THE ANSWER IS A                                                                                                                               1\n",
      "10%, SO THE ANSWER IS A                                                                                                                                    1\n",
      "LOGICAL NOMINALISM, SO THE ANSWER IS A                                                                                                                     1\n",
      "NOT RECOVER, BECAUSE THE DAIRY'S NEGLIGENCE ONLY CAUSED MENTAL DISTURBANCE., SO THE ANSWER IS C                                                            1\n",
      "CONSTITUTIONAL, BECAUSE THE ELECTION CODE IS NONVIOLATIVE OF THE EQUAL PROTECTION CLAUSE., SO THE ANSWER IS D                                              1\n",
      "BECAUSE WINDOW TINTING IS PERMITTED ON VEHICLES IN NEIGHBORING STATES, THIS LAW DENIES THE COMPANY THE EQUAL PROTECTION OF LAWS., SO THE ANSWER IS A       1\n",
      "ENLIGHTENED EGOISM., SO THE ANSWER IS A                                                                                                                    1\n",
      "NOT WRONG, NOT WRONG, SO THE ANSWER IS D                                                                                                                   1\n",
      "PURELY PHYSICAL AND NATURAL, SO THE ANSWER IS B                                                                                                            1\n",
      "FOLATE, VITAMINS B6 AND B12, SO THE ANSWER IS D                                                                                                            1\n",
      "VITAMIN D, SO THE ANSWER IS B                                                                                                                              1\n",
      "YES, BECAUSE THE ALUMINUM SHEETS WERE NONCONFORMING GOODS., SO THE ANSWER IS A                                                                             1\n",
      "NOT WRONG, WRONG, SO THE ANSWER IS C                                                                                                                       1\n",
      "THE TYPE OF DRUG USED, SO THE ANSWER IS A                                                                                                                  1\n",
      "CONCEPTUAL ARTISTS, SO THE ANSWER IS D                                                                                                                     1\n",
      "BILL VIOLA, SO THE ANSWER IS A                                                                                                                             1\n",
      "Name: count, dtype: int64\n",
      "\n",
      "\n",
      "Top 30 non-valid inputs in LM Y:\n",
      "result\n",
      "ANSWER: D                                                                                                     1718\n",
      "ANSWER: C                                                                                                      907\n",
      "ANSWER: B                                                                                                      726\n",
      "ANSWER: A                                                                                                      597\n",
      "NOT SURE                                                                                                        86\n",
      "NONE OF THE ABOVE                                                                                               66\n",
      "NOT WRONG, NOT WRONG, SO THE ANSWER IS D                                                                         2\n",
      "NOT WRONG, WRONG, SO THE ANSWER IS C                                                                             2\n",
      "(I), (II), (III), AND (IV), SO THE ANSWER IS D                                                                   2\n",
      "5 CENTS, SO THE ANSWER IS A                                                                                      1\n",
      "GAGGLE, SO THE ANSWER IS A                                                                                       1\n",
      "BANK ROBBERS, SO THE ANSWER IS C                                                                                 1\n",
      "IS A SIGN THAT SOMETHING IS WRONG WITH REPRODUCTIVE CLONING., SO THE ANSWER IS D                                 1\n",
      "MAKE AMENDS TO OTHERS FOR ANY PAST WRONGS ONE HAS DONE TO THEM., SO THE ANSWER IS A                              1\n",
      "WRONG, NOT WRONG, SO THE ANSWER IS B                                                                             1\n",
      "WRONG, WRONG, SO THE ANSWER IS A                                                                                 1\n",
      "DENVER BOOT, SO THE ANSWER IS B                                                                                  1\n",
      "ARE SOMETIMES USEFUL IN RESOLVING ETHICAL DISAGREEMENT, BUT ARE NOT ALWAYS SUFFICIENT., SO THE ANSWER IS B       1\n",
      "CATEGORICAL LOGIC, SO THE ANSWER IS D                                                                            1\n",
      "SLAVE LABOR, SO THE ANSWER IS D                                                                                  1\n",
      "LEGS, SO THE ANSWER IS D                                                                                         1\n",
      "COMPETITOR ORIENTATION., SO THE ANSWER IS D                                                                      1\n",
      "FENCING, SO THE ANSWER IS B                                                                                      1\n",
      "BROADCAST MEDIA., SO THE ANSWER IS A                                                                             1\n",
      "POLITICAL AND MILITARY HISTORY., SO THE ANSWER IS A                                                              1\n",
      "ENVIRONMENTAL SCANNING, SO THE ANSWER IS A                                                                       1\n",
      "LOSS-LEADER PRICING., SO THE ANSWER IS D                                                                         1\n",
      "TOP TO BOTTOM, SO THE ANSWER IS B                                                                                1\n",
      "TIME AND MOTION STUDIES, SO THE ANSWER IS B                                                                      1\n",
      "SMALL SPAN OF CONTROL, SO THE ANSWER IS D                                                                        1\n",
      "Name: count, dtype: int64\n",
      "\n",
      "\n",
      "Top 30 non-valid inputs in LM Z:\n",
      "result\n",
      "ANSWER: D                                                                                                                                                                  777\n",
      "ANSWER: C                                                                                                                                                                  748\n",
      "ANSWER: B                                                                                                                                                                  712\n",
      "ANSWER: A                                                                                                                                                                  687\n",
      "NOT SURE                                                                                                                                                                   125\n",
      "NONE OF THE ABOVE                                                                                                                                                          119\n",
      "NOT WRONG, NOT WRONG, SO THE ANSWER IS D                                                                                                                                    10\n",
      "WRONG, WRONG, SO THE ANSWER IS A                                                                                                                                             9\n",
      "WRONG, NOT WRONG, SO THE ANSWER IS B                                                                                                                                         9\n",
      "NOT WRONG, WRONG, SO THE ANSWER IS C                                                                                                                                         8\n",
      "ALL OF THE ABOVE, SO THE ANSWER IS D                                                                                                                                         3\n",
      "CONTRADICTORY, SO THE ANSWER IS B                                                                                                                                            2\n",
      "ALL OF THE ABOVE., SO THE ANSWER IS D                                                                                                                                        2\n",
      "II ONLY, SO THE ANSWER IS B                                                                                                                                                  2\n",
      "MEIOSIS, SO THE ANSWER IS D                                                                                                                                                  2\n",
      "REPOLARIZATION, SO THE ANSWER IS B                                                                                                                                           2\n",
      "VITAMIN D, SO THE ANSWER IS B                                                                                                                                                1\n",
      "CAN BE TREATED WITH A LOFFLEX DIET, SO THE ANSWER IS B                                                                                                                       1\n",
      "INCREASED RISK OF FRACTURE, SO THE ANSWER IS B                                                                                                                               1\n",
      "FIBRE SOURCES, SUCH AS HEMICELLULOSES, PECTINS AND INULIN ARE RAPIDLY FERMENTED TO SHORT CHAIN FATTY ACIDS, WHICH HAVE TROPHIC EFFECTS ON THE COLON, SO THE ANSWER IS C      1\n",
      "DNMT1, SO THE ANSWER IS A                                                                                                                                                    1\n",
      "DIETARY INTAKE OF WATER IS ALWAYS GREATER THAN WATER MOVEMENT IN THE SMALL INTESTINE, SO THE ANSWER IS D                                                                     1\n",
      "20 TO 40%, SO THE ANSWER IS C                                                                                                                                                1\n",
      "THE ELDERLY NEED THE MOST PROTEIN DENSE FOOD, SO THE ANSWER IS D                                                                                                             1\n",
      "PERSONS., SO THE ANSWER IS A                                                                                                                                                 1\n",
      "WELLMAN HIMSELF IS AN IMMIGRANT., SO THE ANSWER IS B                                                                                                                         1\n",
      "MORAL BLAME, SO THE ANSWER IS A                                                                                                                                              1\n",
      "THEY ARE GENETICALLY AND FUNCTIONALLY IDENTIFIABLE AS PARTS OF THE MALE OR FEMALE POTENTIAL PARENTS., SO THE ANSWER IS C                                                     1\n",
      "THERE IS NO STRAIGHTFORWARD ANSWER TO THE QUESTION OF WHETHER OR NOT SEXUAL OBJECTIFICATION OCCURS., SO THE ANSWER IS C                                                      1\n",
      "LOW HAEMOGLOBIN, HIGH FERRITIN, HIGH SERUM TRANSFERRIN RECEPTORS, HIGH HEPCIDIN, SO THE ANSWER IS A                                                                          1\n",
      "Name: count, dtype: int64\n"
     ]
    }
   ],
   "source": [
    "# clean the 'result' column\n",
    "df_x['result'] = df_x['result'].str.strip().str.upper()\n",
    "df_y['result'] = df_y['result'].str.strip().str.upper()\n",
    "df_z['result'] = df_z['result'].str.strip().str.upper()\n",
    "\n",
    "# valid inputs\n",
    "valid_inputs = {\"A\", \"B\", \"C\", \"D\"}\n",
    "\n",
    "# filter non-valid inputs and get the top 30\n",
    "print(\"Top 30 non-valid inputs in LM X:\")\n",
    "print(df_x.loc[~df_x['result'].isin(valid_inputs), 'result'].value_counts().head(30))\n",
    "print(\"\\n\")\n",
    "\n",
    "print(\"Top 30 non-valid inputs in LM Y:\")\n",
    "print(df_y.loc[~df_y['result'].isin(valid_inputs), 'result'].value_counts().head(30))\n",
    "print(\"\\n\")\n",
    "\n",
    "print(\"Top 30 non-valid inputs in LM Z:\")\n",
    "print(df_z.loc[~df_z['result'].isin(valid_inputs), 'result'].value_counts().head(30))\n"
   ]
  },
  {
   "cell_type": "markdown",
   "id": "709b59db",
   "metadata": {},
   "source": [
    "# B\n",
    "So basically there are various different types of \"unexpected\" inputs from the participants. Some of them write \"Answer: X\" which will be easy to clean up, but we also have LMs who straight up give us their entire logical process that leads them to a given answer. What is good is that it seems for those instances, the answer they choose always ends up being the final character in the input sentence, so it shoudn't be a difficult pre-process. Some have come up with an I don't know answer. Some have also stated \"None of the above\", which also isn't considered a valid input. All three score dataframes seem to have similar answers.\n"
   ]
  },
  {
   "cell_type": "markdown",
   "id": "98377d82",
   "metadata": {},
   "source": [
    "### 1.3 (5 pt)\n",
    "Oh oh... That doesn't look great. Simply dropping all invalid answers seems overly wasteful, yet fixing all of these looks like a mess! Instead, let's focus for now on fixing just those answers of length < 10 characters that require only a single `str.replace()` operation. \n",
    "\n",
    "For example, if the answer looks like `--A--`, we could fix this by using the following simple function:\n",
    "\n",
    "```\n",
    "def clean_answer(s, pattern='-'):\n",
    "    return str(s).replace(pattern, '')\n",
    "\n",
    "dirty_answer = '--A--'\n",
    "clean_answer = clean_answer(dirty_answer)\n",
    "```\n",
    "\n",
    "A. Filter the three score dataframes to include only answers with less than 10 characters. Make a deep copy of the dataframes as you filter them.\n",
    "\n",
    "B. Modify the `clean_answer()` example function to clean the answers in the filtered data frames using the `apply()` functionality. Finally, make sure **all remaining answers are one of `A, B, C, or D`.**\n",
    "\n",
    "C. /Discuss:/ Compare the sizes of the original and filtered data frames. What do you see? Why might this be a problem?"
   ]
  },
  {
   "cell_type": "markdown",
   "id": "20889b77",
   "metadata": {},
   "source": [
    "I will take a side approach to the one suggested in point A, because it will mean we lose instances where the LM has given the logical process as well as providing an answer. Instead I will pre-process those instances so that give the answer at the end of the reasoning. Only then it uses the formula THE ANSWER IS or ANSWER:. For instances that have \"None of the above\" or indication other anwers without A,B,C or D, I will just put an \"X\" and consider it as \"incorrect\" later..."
   ]
  },
  {
   "cell_type": "code",
   "execution_count": 72,
   "id": "5241d3d5",
   "metadata": {},
   "outputs": [
    {
     "name": "stdout",
     "output_type": "stream",
     "text": [
      "Cleaned LM X results:\n",
      "result\n",
      "A    5844\n",
      "B    3003\n",
      "C    2373\n",
      "D    2350\n",
      "X     312\n",
      "Name: count, dtype: int64\n",
      "\n",
      "\n",
      "Cleaned LM Y results:\n",
      "result\n",
      "D    5808\n",
      "C    3274\n",
      "B    2545\n",
      "A    2054\n",
      "X     297\n",
      "Name: count, dtype: int64\n",
      "\n",
      "\n",
      "Cleaned LM Z results:\n",
      "result\n",
      "D    3498\n",
      "C    3406\n",
      "B    3278\n",
      "A    3152\n",
      "X     589\n",
      "Name: count, dtype: int64\n"
     ]
    }
   ],
   "source": [
    "import re\n",
    "\n",
    "# function to clean answers\n",
    "def clean_answer(s):\n",
    "    s = str(s).strip().upper()  # normalize case and remove spaces\n",
    "    \n",
    "   # completely invalid responses marked as \"X\"\n",
    "    invalid_responses = {\"NONE OF THE ABOVE\", \"NOT SURE\", \"DON'T KNOW\", \"UNKNOWN\"}\n",
    "    if s in invalid_responses:\n",
    "        return \"X\"\n",
    "    \n",
    "    # match answers that are just a single letter (A, B, C, or D)\n",
    "    if s in {\"A\", \"B\", \"C\", \"D\"}:\n",
    "        return s\n",
    "\n",
    "    # match responses that follow \"ANSWER: \" or \"ANSWER IS \"\n",
    "    match = re.search(r\"ANSWER[:\\sIS]*([ABCD])\\b\", s)\n",
    "    if match:\n",
    "        return match.group(1)\n",
    "\n",
    "    return \"X\"  # if nothing valid found, mark as \"X\"\n",
    "\n",
    "# apply cleaning function to each dataframe\n",
    "df_x['result'] = df_x['result'].apply(clean_answer)\n",
    "df_y['result'] = df_y['result'].apply(clean_answer)\n",
    "df_z['result'] = df_z['result'].apply(clean_answer)\n",
    "\n",
    "# verify cleaning process\n",
    "print(\"Cleaned LM X results:\")\n",
    "print(df_x['result'].value_counts())\n",
    "print(\"\\n\")\n",
    "\n",
    "print(\"Cleaned LM Y results:\")\n",
    "print(df_y['result'].value_counts())\n",
    "print(\"\\n\")\n",
    "\n",
    "print(\"Cleaned LM Z results:\")\n",
    "print(df_z['result'].value_counts())\n"
   ]
  },
  {
   "cell_type": "code",
   "execution_count": 73,
   "id": "2d083ada",
   "metadata": {},
   "outputs": [
    {
     "name": "stdout",
     "output_type": "stream",
     "text": [
      "                LM X   LM Y   LM Z\n",
      "Original Size  13882  13978  13923\n",
      "Cleaned Size   13570  13681  13334\n"
     ]
    }
   ],
   "source": [
    "# We now clean the data from the anwers that we marked as incorrect (X)\n",
    "# original sizes\n",
    "original_sizes = {\n",
    "    \"LM X\": len(df_x),\n",
    "    \"LM Y\": len(df_y),\n",
    "    \"LM Z\": len(df_z)\n",
    "}\n",
    "\n",
    "# remove all values marked as \"X\"\n",
    "df_x_clean = df_x[df_x['result'] != \"X\"]\n",
    "df_y_clean = df_y[df_y['result'] != \"X\"]\n",
    "df_z_clean = df_z[df_z['result'] != \"X\"]\n",
    "\n",
    "# cleaned sizes after filtering\n",
    "cleaned_sizes = {\n",
    "    \"LM X\": len(df_x_clean),\n",
    "    \"LM Y\": len(df_y_clean),\n",
    "    \"LM Z\": len(df_z_clean)\n",
    "}\n",
    "\n",
    "# convert to DataFrame for better visualization\n",
    "comparison_df = pd.DataFrame([original_sizes, cleaned_sizes], index=[\"Original Size\", \"Cleaned Size\"])\n",
    "\n",
    "# comparison table\n",
    "print(comparison_df)\n"
   ]
  },
  {
   "cell_type": "markdown",
   "id": "3e420725",
   "metadata": {},
   "source": [
    "We cleaned up the data and managed to mantain almost all instances. Now the result column follows our desired format."
   ]
  },
  {
   "cell_type": "markdown",
   "id": "4bda2920",
   "metadata": {},
   "source": [
    "### 1.4 (3 pt)\n",
    "\n",
    "Now that our answer columns are nicely formatted, let's take a look at model performance:\n",
    "\n",
    "A. Both the `other` dataframes and the language model score data frames have the columns `question_id`. For each of the language model score data frames, use an inner join operation with the `df_test` dataframe on the `question_id` column.\n",
    "\n",
    "B. Add a new column to each of the resulting dataframes called `correct`, that checks if the model's answer in `result` is the same as the expected answer in the column `answer`. Then, print the average score of each model."
   ]
  },
  {
   "cell_type": "code",
   "execution_count": 74,
   "id": "5cfcb814",
   "metadata": {},
   "outputs": [],
   "source": [
    "# inner join on question_id\n",
    "df_x_merged = df_x_clean.merge(df_test, on=\"question_id\", how=\"inner\")\n",
    "df_y_merged = df_y_clean.merge(df_test, on=\"question_id\", how=\"inner\")\n",
    "df_z_merged = df_z_clean.merge(df_test, on=\"question_id\", how=\"inner\")\n"
   ]
  },
  {
   "cell_type": "code",
   "execution_count": 75,
   "id": "4814bb7f",
   "metadata": {},
   "outputs": [
    {
     "name": "stdout",
     "output_type": "stream",
     "text": [
      "LM X Accuracy: 0.7678 (76.78%)\n",
      "LM Y Accuracy: 0.7456 (74.56%)\n",
      "LM Z Accuracy: 0.6624 (66.24%)\n"
     ]
    }
   ],
   "source": [
    "# B\n",
    "# add 'correct' column \n",
    "df_x_merged['correct'] = (df_x_merged['result'] == df_x_merged['answer']).astype(int)\n",
    "df_y_merged['correct'] = (df_y_merged['result'] == df_y_merged['answer']).astype(int)\n",
    "df_z_merged['correct'] = (df_z_merged['result'] == df_z_merged['answer']).astype(int)\n",
    "\n",
    "# average accuracy for each model\n",
    "score_x = df_x_merged['correct'].mean()\n",
    "score_y = df_y_merged['correct'].mean()\n",
    "score_z = df_z_merged['correct'].mean()\n",
    "\n",
    "# results\n",
    "print(f\"LM X Accuracy: {score_x:.4f} ({score_x * 100:.2f}%)\")\n",
    "print(f\"LM Y Accuracy: {score_y:.4f} ({score_y * 100:.2f}%)\")\n",
    "print(f\"LM Z Accuracy: {score_z:.4f} ({score_z * 100:.2f}%)\")\n"
   ]
  },
  {
   "cell_type": "markdown",
   "id": "07128b41",
   "metadata": {},
   "source": [
    "I got different prints from the ones that were initially shown, but I don't think that's a big deal, as the values are similar (apart from the third set, where the accuracy decreased with almost 10%)."
   ]
  },
  {
   "cell_type": "markdown",
   "id": "474d719d",
   "metadata": {},
   "source": [
    "### 1.5 (5 pt)\n",
    "\n",
    "Hmmm, something doesn't seem quite right. Let's investigate how \"balanced\" this dataset is:\n",
    "\n",
    "A. For each of the 57 subjects in the MMLU, compare the number of questions answered by each model. Print the subjects for which there is a more than 10% difference.\n",
    "\n",
    "B. Propose and implement a reasonable way to rebalance the results. (e.g., while throwing away 100% of the results perfectly rebalances the results, it is not reasonable).\n",
    "\n",
    "C. Finally, print the updated accuracy on the rebalanced data.\n",
    "\n",
    "**hint:**:\n",
    "- (A) For a given subject, let model X and model Y have answered 181 and 200 questions respectively. You can consider this a 10% difference from the perspective of X, i.e., (200 - 181) / 181 > 0.10"
   ]
  },
  {
   "cell_type": "code",
   "execution_count": 76,
   "id": "1634b29a",
   "metadata": {},
   "outputs": [
    {
     "name": "stdout",
     "output_type": "stream",
     "text": [
      "Subjects with >10% difference in question count:\n",
      "                   LM X  LM Y  LM Z\n",
      "subject                            \n",
      "college chemistry    96   100    90\n",
      "formal logic        111   124   119\n",
      "logical fallacies   154   136   155\n",
      "moral disputes      330   306   263\n",
      "moral scenarios     743   871   810\n"
     ]
    }
   ],
   "source": [
    "#A\n",
    "# number of questions answered per subject for each model\n",
    "subject_counts_x = df_x_merged['subject'].value_counts()\n",
    "subject_counts_y = df_y_merged['subject'].value_counts()\n",
    "subject_counts_z = df_z_merged['subject'].value_counts()\n",
    "\n",
    "# combine into a DataFrame\n",
    "subject_counts = pd.DataFrame({\n",
    "    \"LM X\": subject_counts_x,\n",
    "    \"LM Y\": subject_counts_y,\n",
    "    \"LM Z\": subject_counts_z\n",
    "}).fillna(0).astype(int)  # fill missing subjects with 0 and ensure integer type\n",
    "\n",
    "# identify subjects with >10% difference\n",
    "unbalanced_subjects = []\n",
    "for subject in subject_counts.index:\n",
    "    counts = subject_counts.loc[subject]\n",
    "    \n",
    "    # pairwise percentage differences\n",
    "    diffs = [\n",
    "        abs(counts[\"LM X\"] - counts[\"LM Y\"]) / (min(counts[\"LM X\"], counts[\"LM Y\"]) + 1e-6),\n",
    "        abs(counts[\"LM X\"] - counts[\"LM Z\"]) / (min(counts[\"LM X\"], counts[\"LM Z\"]) + 1e-6),\n",
    "        abs(counts[\"LM Y\"] - counts[\"LM Z\"]) / (min(counts[\"LM Y\"], counts[\"LM Z\"]) + 1e-6),\n",
    "    ]\n",
    "    \n",
    "    # if any difference is >10%, flag the subject\n",
    "    if any(diff > 0.10 for diff in diffs):\n",
    "        unbalanced_subjects.append(subject)\n",
    "\n",
    "# unbalanced subjects:\n",
    "print(\"Subjects with >10% difference in question count:\")\n",
    "print(subject_counts.loc[unbalanced_subjects],)\n",
    "\n"
   ]
  },
  {
   "cell_type": "markdown",
   "id": "fcde6cd7",
   "metadata": {},
   "source": [
    "To rebalance, I will find the minimum number of questions answered for each subject across the models and then randomly sample that number from each model's dataset. We ensure that we keep as much data as possible whilst having fair comparison."
   ]
  },
  {
   "cell_type": "code",
   "execution_count": 77,
   "id": "a7cc11b7",
   "metadata": {},
   "outputs": [
    {
     "name": "stdout",
     "output_type": "stream",
     "text": [
      "Before rebalance:\n",
      "                   LM X  LM Y  LM Z\n",
      "subject                            \n",
      "college chemistry    96   100    90\n",
      "formal logic        111   124   119\n",
      "logical fallacies   154   136   155\n",
      "moral disputes      330   306   263\n",
      "moral scenarios     743   871   810\n",
      "\n",
      "After rebalance:\n",
      "                   LM X  LM Y  LM Z\n",
      "subject                            \n",
      "college chemistry    90    90    90\n",
      "formal logic        111   111   111\n",
      "logical fallacies   136   136   136\n",
      "moral disputes      263   263   263\n",
      "moral scenarios     743   743   743\n"
     ]
    }
   ],
   "source": [
    "#B\n",
    "\n",
    "\n",
    "def rebalance_data(df_merged, subject_counts_x, subject_counts_y, subject_counts_z):\n",
    "    rebalanced_df = []\n",
    "    \n",
    "    for subject in df_merged['subject'].unique():\n",
    "        subject_df = df_merged[df_merged['subject'] == subject]\n",
    "        \n",
    "        # minimum count across all three models\n",
    "        min_count = min(\n",
    "            subject_counts_x.get(subject, np.inf),\n",
    "            subject_counts_y.get(subject, np.inf),\n",
    "            subject_counts_z.get(subject, np.inf),\n",
    "        )\n",
    "\n",
    "        # if the subject appears in the unbalanced subjects list, sample down\n",
    "        if subject in unbalanced_subjects and len(subject_df) > min_count:\n",
    "            subject_df = subject_df.sample(n=int(min_count), random_state=42)\n",
    "\n",
    "        rebalanced_df.append(subject_df)\n",
    "\n",
    "    return pd.concat(rebalanced_df).reset_index(drop=True)\n",
    "\n",
    "# rebalancing\n",
    "df_x_balanced = rebalance_data(df_x_merged, subject_counts_x, subject_counts_y, subject_counts_z)\n",
    "df_y_balanced = rebalance_data(df_y_merged, subject_counts_x, subject_counts_y, subject_counts_z)\n",
    "df_z_balanced = rebalance_data(df_z_merged, subject_counts_x, subject_counts_y, subject_counts_z)\n",
    "\n",
    "# before & after sizes\n",
    "print(\"Before rebalance:\")\n",
    "print(subject_counts.loc[unbalanced_subjects])\n",
    "\n",
    "print(\"\\nAfter rebalance:\")\n",
    "balanced_counts = pd.DataFrame({\n",
    "    \"LM X\": df_x_balanced['subject'].value_counts(),\n",
    "    \"LM Y\": df_y_balanced['subject'].value_counts(),\n",
    "    \"LM Z\": df_z_balanced['subject'].value_counts()\n",
    "}).fillna(0).astype(int)\n",
    "\n",
    "print(balanced_counts.loc[unbalanced_subjects])\n"
   ]
  },
  {
   "cell_type": "code",
   "execution_count": 78,
   "id": "e558c3f8",
   "metadata": {},
   "outputs": [
    {
     "name": "stdout",
     "output_type": "stream",
     "text": [
      "Rebalanced LM X Accuracy: 0.7680 (76.80%)\n",
      "Rebalanced LM Y Accuracy: 0.7461 (74.61%)\n",
      "Rebalanced LM Z Accuracy: 0.6622 (66.22%)\n"
     ]
    }
   ],
   "source": [
    "#C\n",
    "# correctness for balanced datasets\n",
    "df_x_balanced['correct'] = (df_x_balanced['result'] == df_x_balanced['answer']).astype(int)\n",
    "df_y_balanced['correct'] = (df_y_balanced['result'] == df_y_balanced['answer']).astype(int)\n",
    "df_z_balanced['correct'] = (df_z_balanced['result'] == df_z_balanced['answer']).astype(int)\n",
    "\n",
    "# new accuracy\n",
    "score_x_balanced = df_x_balanced['correct'].mean()\n",
    "score_y_balanced = df_y_balanced['correct'].mean()\n",
    "score_z_balanced = df_z_balanced['correct'].mean()\n",
    "\n",
    "# results\n",
    "print(f\"Rebalanced LM X Accuracy: {score_x_balanced:.4f} ({score_x_balanced * 100:.2f}%)\")\n",
    "print(f\"Rebalanced LM Y Accuracy: {score_y_balanced:.4f} ({score_y_balanced * 100:.2f}%)\")\n",
    "print(f\"Rebalanced LM Z Accuracy: {score_z_balanced:.4f} ({score_z_balanced * 100:.2f}%)\")\n"
   ]
  },
  {
   "cell_type": "markdown",
   "id": "974fc248",
   "metadata": {},
   "source": [
    "It seems that the balancing is not influencint the results as much, as there was minimal change to their accuracy. "
   ]
  },
  {
   "cell_type": "markdown",
   "id": "1ae0547c",
   "metadata": {},
   "source": [
    "## Task 2 (26 points): What do you mean A > D > B > C...?\n",
    "\n",
    "Nice work! Having successfully inspected, cleaned, and rebalanced the provided data, you head over to director of the government's FIETS project operating under the code name Geronimo. He is happy with your work so far, but worried that the sloppy intern might have done more undetected damage. To be sure, he orders a new set of evaluations of all models on both MMLU and another dataset.\n",
    "\n",
    "After cleaning up and rebalancing, you are left with the concatenated score files in the second folder `task_2`:\n",
    "```\n",
    "task_2/\n",
    "│\n",
    "└── lm_scores_mmlu.csv\n",
    "│\n",
    "└── lm_scores_other.csv\n",
    "```\n",
    "\n",
    "Each has a new column called `model_name`, which is one of `X, Y` or `Z`.\n",
    "\n",
    "\n",
    "\n",
    "_NOTE: **only** use data from `task_2` and `task_2_5` for this assignment! The values in `lm_scores_mmlu.csv` will NOT be the same as the dataframes you finished in task 1. This is due to \"randomness\" or \"temperature\" in language model inference. This can slightly shift around generative results. (Conveniently: it also ensures any mistakes made in Task 1 don't propogate further ;) )_"
   ]
  },
  {
   "cell_type": "code",
   "execution_count": 79,
   "id": "2067ebe2",
   "metadata": {},
   "outputs": [],
   "source": [
    "# PROVIDED CODE\n",
    "df_mmlu = pd.read_csv('data/task_2/lm_scores_mmlu.csv')\n",
    "df_other = pd.read_csv('data/task_2/lm_scores_other.csv')"
   ]
  },
  {
   "cell_type": "markdown",
   "id": "d97ed869",
   "metadata": {},
   "source": [
    "### 2.1 (4 pt)\n",
    "\n",
    "Let's explore the new results:\n",
    "\n",
    "A. Compute the mean accuracy and standard errors of each model on both datasets and print the results.\n",
    "\n",
    "B. Then, show your results in a bar plot using standard errors with a 95% confidence interval around the mean. Make sure the plot is easy to read and well annotated.\n",
    "\n",
    "C. /Discuss:/ the plot you created: (i) can you say that one of the models is the best? (ii) is there anything that seems odd?"
   ]
  },
  {
   "cell_type": "code",
   "execution_count": 80,
   "id": "b69b5615",
   "metadata": {},
   "outputs": [
    {
     "name": "stdout",
     "output_type": "stream",
     "text": [
      "Mean Accuracy & Standard Error MMLU\n",
      "\n",
      "             accuracy    stderr\n",
      "model_name                    \n",
      "X           0.743588  0.004038\n",
      "Y           0.761542  0.003941\n",
      "Z           0.655951  0.004393\n",
      "\n",
      "\n",
      "Mean Accuracy & Standard Error Other Dataset\n",
      "\n",
      "             accuracy    stderr\n",
      "model_name                    \n",
      "X           0.787976  0.006668\n",
      "Y           0.720936  0.007317\n",
      "Z           0.671721  0.007660\n"
     ]
    }
   ],
   "source": [
    "#A\n",
    "\n",
    "# mean accuracy and standard error for each model in both datasets\n",
    "def compute_stats(df, dataset_name):\n",
    "    stats_df = df.groupby(\"model_name\")[\"correct\"].agg([\"mean\", \"count\", \"std\"])\n",
    "    stats_df[\"stderr\"] = stats_df[\"std\"] / np.sqrt(stats_df[\"count\"])  # Standard error\n",
    "    stats_df = stats_df[[\"mean\", \"stderr\"]].rename(columns={\"mean\": \"accuracy\"})\n",
    "    \n",
    "    print(f\"Mean Accuracy & Standard Error\", dataset_name)\n",
    "    print('\\n',stats_df)\n",
    "    return stats_df\n",
    "\n",
    "# stats for both datasets\n",
    "mmlu_stats = compute_stats(df_mmlu, \"MMLU\")\n",
    "print(\"\\n\")\n",
    "other_stats = compute_stats(df_other, \"Other Dataset\")\n"
   ]
  },
  {
   "cell_type": "code",
   "execution_count": 81,
   "id": "c4a5bffc",
   "metadata": {},
   "outputs": [
    {
     "data": {
      "image/png": "[encoded data removed]",
      "text/plain": [
       "<Figure size 800x600 with 1 Axes>"
      ]
     },
     "metadata": {},
     "output_type": "display_data"
    }
   ],
   "source": [
    "#B\n",
    "\n",
    "# plot results with error bars\n",
    "def plot_results(mmlu_stats, other_stats):\n",
    "    models = mmlu_stats.index\n",
    "\n",
    "    # extract values\n",
    "    accuracies_mmlu = mmlu_stats[\"accuracy\"]\n",
    "    errors_mmlu = mmlu_stats[\"stderr\"]\n",
    "    accuracies_other = other_stats[\"accuracy\"]\n",
    "    errors_other = other_stats[\"stderr\"]\n",
    "\n",
    "    # bar plot setup\n",
    "    x = np.arange(len(models))\n",
    "    width = 0.35  # Width of bars\n",
    "\n",
    "    fig, ax = plt.subplots(figsize=(8, 6))\n",
    "    \n",
    "    # plot bars with error bars (95% CI)\n",
    "    ax.bar(x - width/2, accuracies_mmlu, width, yerr=errors_mmlu * 1.96, capsize=5, label=\"MMLU\", alpha=0.7)\n",
    "    ax.bar(x + width/2, accuracies_other, width, yerr=errors_other * 1.96, capsize=5, label=\"Other Dataset\", alpha=0.7)\n",
    "\n",
    "    ax.set_xlabel(\"Model\")\n",
    "    ax.set_ylabel(\"Accuracy\")\n",
    "    ax.set_title(\"Model Performance on MMLU & Other Dataset\")\n",
    "    ax.set_xticks(x)\n",
    "    ax.set_xticklabels(models)\n",
    "    ax.legend()\n",
    "    \n",
    "    plt.show()\n",
    "\n",
    "# results\n",
    "plot_results(mmlu_stats, other_stats)\n"
   ]
  },
  {
   "cell_type": "markdown",
   "id": "5587c824",
   "metadata": {},
   "source": [
    "### 2.2 (5 pt)\n",
    "\n",
    "Geronimo has assured you that both datasets contain questions of similar difficulty, so, what could be going on here?\n",
    "\n",
    "A. What is the distribution of correct answers (A, B, C, D) for each dataset? Create a bar chart to visualize this.\n",
    "\n",
    "B. Perform a chi-square test at $\\alpha = 0.05$, of independence to determine if there's a significant difference in the distribution of correct answers between the two datasets. What do you conclude?\n",
    "\n",
    "**hints**:\n",
    "- for (A), keep in mind that df_mmlu and df_other contain the results of all models, i.e., the `question_id` column is duplicated.\n",
    "- for (A), take care to clearly annotate the bar chart, e.g., title, y-label, legend.\n",
    "- for (B), clearly state the null hypothesis and alternative hypothesis\n",
    "- use the `chi2_contingency` function from `scipy.stats`\n",
    "- format your results from answer (A) as a 2D array"
   ]
  },
  {
   "cell_type": "code",
   "execution_count": 82,
   "id": "74904507",
   "metadata": {},
   "outputs": [
    {
     "data": {
      "image/png": "[encoded data removed]",
      "text/plain": [
       "<Figure size 800x600 with 1 Axes>"
      ]
     },
     "metadata": {},
     "output_type": "display_data"
    },
    {
     "name": "stdout",
     "output_type": "stream",
     "text": [
      "        MMLU  Other Dataset\n",
      "answer                     \n",
      "A       1611           1078\n",
      "B       2943           1116\n",
      "C       3403            924\n",
      "D       3739            641\n"
     ]
    }
   ],
   "source": [
    "#A \n",
    "\n",
    "# correct answers for each unique question\n",
    "mmlu_correct_counts = df_mmlu.groupby(\"question_id\")[\"answer\"].first().value_counts()\n",
    "other_correct_counts = df_other.groupby(\"question_id\")[\"answer\"].first().value_counts()\n",
    "\n",
    "answer_distribution = pd.DataFrame({\n",
    "    \"MMLU\": mmlu_correct_counts,\n",
    "    \"Other Dataset\": other_correct_counts\n",
    "}).fillna(0).astype(int) \n",
    "\n",
    "# plot the distributions\n",
    "answer_distribution.plot(kind=\"bar\", figsize=(8, 6), alpha=0.7)\n",
    "plt.title(\"Distribution of Correct Answers (A, B, C, D)\")\n",
    "plt.ylabel(\"Count\")\n",
    "plt.xlabel(\"Correct Answer\")\n",
    "plt.legend(title=\"Dataset\")\n",
    "plt.xticks(rotation=0)\n",
    "plt.show()\n",
    "\n",
    "# distributions for reference\n",
    "print(answer_distribution)\n"
   ]
  },
  {
   "cell_type": "code",
   "execution_count": 83,
   "id": "0c461f94",
   "metadata": {},
   "outputs": [
    {
     "name": "stdout",
     "output_type": "stream",
     "text": [
      "Chi-Square Test for Independence:\n",
      "Chi-Square Statistic: 629.3959\n",
      "Degrees of Freedom: 3\n",
      "P-Value: 4.2708e-136\n",
      "The p-value is less than 0.05, so we reject the null hypothesis.\n",
      "There is a significant difference in the distribution of correct answers between the two datasets.\n"
     ]
    }
   ],
   "source": [
    "import scipy.stats as stats\n",
    "import numpy as np\n",
    "\n",
    "# observed data from Section A\n",
    "observed_correct = np.array([\n",
    "    [1611, 1078],  \n",
    "    [2943, 1116],  \n",
    "    [3403,  924],  \n",
    "    [3739,  641]   \n",
    "])\n",
    "\n",
    "# Chi-Square test of independence\n",
    "chi2_stat, p_value, dof, expected = stats.chi2_contingency(observed_correct)\n",
    "\n",
    "# results with clear formatting\n",
    "print(\"Chi-Square Test for Independence:\")\n",
    "print(f\"Chi-Square Statistic: {chi2_stat:.4f}\")\n",
    "print(f\"Degrees of Freedom: {dof}\")\n",
    "print(f\"P-Value: {p_value:.4e}\")  \n",
    "\n",
    "# conclusion\n",
    "alpha = 0.05\n",
    "if p_value < alpha:\n",
    "    print(\"The p-value is less than 0.05, so we reject the null hypothesis.\")\n",
    "    print(\"There is a significant difference in the distribution of correct answers between the two datasets.\")\n",
    "else:\n",
    "    print(\"The p-value is greater than 0.05, so we fail to reject the null hypothesis.\")\n",
    "    print(\"There is no significant difference in the distribution of correct answers between the datasets.\")\n"
   ]
  },
  {
   "cell_type": "markdown",
   "id": "a8a2860c",
   "metadata": {},
   "source": [
    "The result from the Chi-squared is also reflected in the results generated in the A part."
   ]
  },
  {
   "cell_type": "markdown",
   "id": "c50f875f",
   "metadata": {},
   "source": [
    "### 2.3 (7 pt)\n",
    "\n",
    "Let's dive in deeper:\n",
    "\n",
    "A. What is language model X's mean accuracy conditioned on the four answer options for each dataset?\n",
    "\n",
    "B. Compare LM X's performance when the correct answer is \"A\" between the two datasets. Use a T-test with CI = 0.95. What do you conclude?\n",
    "\n",
    "C. Compare LM X's performance when the correct answer is \"A\" vs. \"C or D\" for each dataset. Use a T-test with CI = 0.95. What do you conclude?"
   ]
  },
  {
   "cell_type": "code",
   "execution_count": 84,
   "id": "f2b265e3",
   "metadata": {},
   "outputs": [
    {
     "name": "stdout",
     "output_type": "stream",
     "text": [
      "Language Model X's Mean Accuracy Conditioned on the Four Answer Options:\n",
      "            mean  count\n",
      "answer                 \n",
      "A       0.972688   1611\n",
      "B       0.799185   2943\n",
      "C       0.707905   3403\n",
      "D       0.633592   3739\n"
     ]
    }
   ],
   "source": [
    "#A\n",
    "df_mmlu_x = df_mmlu[df_mmlu['model_name'] == 'X']\n",
    "mmlu_grouped = df_mmlu_x.groupby(\"answer\")[\"correct\"].agg([\"mean\", \"count\"])\n",
    "\n",
    "print(\"Language Model X's Mean Accuracy Conditioned on the Four Answer Options:\")\n",
    "print(mmlu_grouped)\n"
   ]
  },
  {
   "cell_type": "code",
   "execution_count": 85,
   "id": "1e31fdd8",
   "metadata": {},
   "outputs": [
    {
     "name": "stdout",
     "output_type": "stream",
     "text": [
      "T-test results for Answer = A, model X:\n",
      "T-Statistic: -0.2106\n",
      "P-Value: 8.3322e-01\n",
      "The p-value is greater than 0.05, so we fail to reject the null hypothesis.\n",
      "There is no significant difference in the distribution of correct answers when the correct answer is \"A\" between the datasets.\n"
     ]
    }
   ],
   "source": [
    "#B\n",
    "df_mmlu_x_a = df_mmlu[(df_mmlu['model_name'] == 'X') & (df_mmlu['answer'] == 'A')]\n",
    "df_other_x_a = df_other[(df_other['model_name'] == 'X') & (df_other['answer'] == 'A')]\n",
    "\n",
    "# Create a contingency table\n",
    "contingency_table = pd.crosstab(df_mmlu_x_a['correct'], df_other_x_a['correct'])\n",
    "\n",
    "# Perform t-test\n",
    "t_stat, p_value = ttest_ind(df_mmlu_x_a['correct'], df_other_x_a['correct'])\n",
    "\n",
    "print(\"T-test results for Answer = A, model X:\")\n",
    "print(f\"T-Statistic: {t_stat:.4f}\")\n",
    "print(f\"P-Value: {p_value:.4e}\")\n",
    "\n",
    "# conclusion\n",
    "alpha = 0.05\n",
    "if p_value < alpha:\n",
    "    print(\"The p-value is less than 0.05, so we reject the null hypothesis.\")\n",
    "    print(\"There is a significant difference in the distribution of correct answers when the correct answer is \\\"A\\\" between the two datasets.\")\n",
    "else:\n",
    "    print(\"The p-value is greater than 0.05, so we fail to reject the null hypothesis.\")\n",
    "    print(\"There is no significant difference in the distribution of correct answers when the correct answer is \\\"A\\\" between the datasets.\")\n"
   ]
  },
  {
   "cell_type": "code",
   "execution_count": 86,
   "id": "8f0ecae0",
   "metadata": {},
   "outputs": [
    {
     "name": "stdout",
     "output_type": "stream",
     "text": [
      "T-test results for Answer = A vs. C or D, model X (combined datasets):\n",
      "T-Statistic: 33.2663\n",
      "P-Value: 1.1479e-231\n",
      "The p-value is less than 0.05, so we reject the null hypothesis.\n",
      "There is a significant difference in the accuracy when the correct answer is 'A' versus 'C or D' for model X.\n"
     ]
    }
   ],
   "source": [
    "#C\n",
    "df_combined_x = pd.concat([df_mmlu[df_mmlu['model_name'] == 'X'], df_other[df_other['model_name'] == 'X']])\n",
    "\n",
    "df_combined_x_a = df_combined_x[df_combined_x['answer'] == 'A']\n",
    "df_combined_x_cd = df_combined_x[df_combined_x['answer'].isin(['C', 'D'])]\n",
    "\n",
    "t_stat, p_value = ttest_ind(df_combined_x_a['correct'], df_combined_x_cd['correct'])\n",
    "\n",
    "print(\"T-test results for Answer = A vs. C or D, model X (combined datasets):\")\n",
    "print(f\"T-Statistic: {t_stat:.4f}\")\n",
    "print(f\"P-Value: {p_value:.4e}\")\n",
    "\n",
    "# Conclusion\n",
    "alpha = 0.05\n",
    "if p_value < alpha:\n",
    "    print(\"The p-value is less than 0.05, so we reject the null hypothesis.\")\n",
    "    print(\"There is a significant difference in the accuracy when the correct answer is 'A' versus 'C or D' for model X.\")\n",
    "else:\n",
    "    print(\"The p-value is greater than 0.05, so we fail to reject the null hypothesis.\")\n",
    "    print(\"There is no significant difference in the accuracy when the correct answer is 'A' versus 'C or D' for model X.\")"
   ]
  },
  {
   "cell_type": "markdown",
   "id": "2e1d7754",
   "metadata": {},
   "source": [
    "### 2.4 (2 pt)\n",
    "\n",
    "What an intriguing finding! \n",
    "\n",
    "A. Print the mean accuracies conditioned on the correct answer for all LMs for each dataset.\n",
    "\n",
    "B. /Discuss:/ What do you observe?"
   ]
  },
  {
   "cell_type": "code",
   "execution_count": 87,
   "id": "77801937",
   "metadata": {},
   "outputs": [
    {
     "name": "stdout",
     "output_type": "stream",
     "text": [
      "Mean accuracy conditioned on the correct answer MMLU:\n",
      "answer             A         B         C         D\n",
      "model_name                                        \n",
      "X           0.972688  0.799185  0.707905  0.633592\n",
      "Y           0.623836  0.688073  0.733470  0.904252\n",
      "Z           0.643079  0.641182  0.669115  0.661139\n",
      "\n",
      "\n",
      "Mean accuracy conditioned on the correct answer Other:\n",
      "answer             A         B         C         D\n",
      "model_name                                        \n",
      "X           0.974026  0.806452  0.676407  0.603744\n",
      "Y           0.625232  0.663978  0.762987  0.920437\n",
      "Z           0.680891  0.667563  0.662338  0.677067\n"
     ]
    }
   ],
   "source": [
    "#A\n",
    "mmlu_conditioned_mean = df_mmlu.groupby(['model_name', 'answer'])['correct'].mean().unstack()\n",
    "print(\"Mean accuracy conditioned on the correct answer MMLU:\")\n",
    "print(mmlu_conditioned_mean)\n",
    "\n",
    "print(\"\\n\")\n",
    "\n",
    "other_conditioned_mean = df_other.groupby(['model_name', 'answer'])['correct'].mean().unstack()\n",
    "print(\"Mean accuracy conditioned on the correct answer Other:\")\n",
    "print(other_conditioned_mean)\n"
   ]
  },
  {
   "cell_type": "markdown",
   "id": "e812af06",
   "metadata": {},
   "source": [
    "Model Z seems to have consistent accuracy across all four answers and the two datasets. The same cannot be said for models X and Y, these show a bias towards certain answers. This is because the accuracy conditioned on some answers is significantly higher than the others."
   ]
  },
  {
   "cell_type": "markdown",
   "id": "31947726",
   "metadata": {},
   "source": [
    "### 2.5 (2 pt)\n",
    "\n",
    "Concerned with your findings so far, you quickly consult with Geronimo. After thinking it over, Geronimo concludes that more tests are needed. He orders a second round of MMLU results. However, Geronimo thinks of the following twist: while keeping questions fixed, he randomly permutes the position of the correct answer. The new results can be found in the folder `data/task_2_5/`:\n",
    "```\n",
    "task_2_5/\n",
    "│\n",
    "└── lm_scores_mmlu_shuffle.csv\n",
    "```\n",
    "\n",
    "/Discuss:/ Why would Geronimo do this?"
   ]
  },
  {
   "cell_type": "markdown",
   "id": "ca1ffc90",
   "metadata": {},
   "source": [
    "B. \n",
    "\n",
    "This can be done to ensure that the answers are balanced and the models cannot score higher accuracy by learning the bias in the position of the correct anwers. \n",
    "\n",
    "By shuffling the position of the correct answers we can check if models X and Y will still perform as well or they managed to do so by overfitting the positions of the correct answers."
   ]
  },
  {
   "cell_type": "markdown",
   "id": "bb158adf",
   "metadata": {},
   "source": [
    "### 2.6 (4 pt)\n",
    "\n",
    "Increasingly sceptical of the language models' performance, you read up on proper testing practices. You stumble upon the concept of [test-rested stability](https://en.wikipedia.org/wiki/Repeatability), which roughtly states that:\n",
    "\n",
    "\"_Measurements taken by a single person or instrument on the same item, under the same conditions, and in a short period of time, should have the same results._\"\n",
    "\n",
    "In our case, we would assume an LM would have the same performance on a given question regardless of the correct answer position. One way of testing this is by using the following metric:\n",
    "\n",
    "$$\\text{test-retest metric} = \\frac{1}{N}\\sum_{i=1}^N \\frac{1}{M}\\sum_{j=1}^M c^i_0 c_j^i,$$\n",
    "\n",
    "where $c^i_0 \\in \\{0, 1\\}$ indicates whether the model answers the $i^{\\text{th}}$ question correctly (1 if correct, 0 if incorrect). $c_j^i$ indicates whether the model answers the $i^{\\text{th}}$ question correctly in the $j^{\\text{th}}$ shuffled version of the answer label content. Finally, $M$ is the total number of shuffles and $N$ is the dataset size.\n",
    "\n",
    "Task: compute the test-retest metric for each language model using the original `lm_scores_mmlu.csv` file and the new `lm_scores_mmlu_shuffle.csv` file. Using a bar plot, visualize your results by comparing the accuracy of the original `lm_scores_mmlu.csv` and the test-retest scores.\n",
    "\n",
    "**hints**\n",
    "- what is $M$ in our case?\n",
    "\n",
    "(bonus: no points, but so much sweet, sweet knowledge - check out [the following article](https://arxiv.org/pdf/2406.19470v1))"
   ]
  },
  {
   "cell_type": "code",
   "execution_count": 88,
   "id": "46ce6153",
   "metadata": {},
   "outputs": [
    {
     "name": "stdout",
     "output_type": "stream",
     "text": [
      "Test-Retest Metric for X: 0.5884\n",
      "Test-Retest Metric for Y: 0.5716\n",
      "Test-Retest Metric for Z: 0.4416\n"
     ]
    },
    {
     "data": {
      "image/png": "[encoded data removed]",
      "text/plain": [
       "<Figure size 1000x600 with 1 Axes>"
      ]
     },
     "metadata": {},
     "output_type": "display_data"
    }
   ],
   "source": [
    "#fancy code\n",
    "df_shuffled_mmlu = pd.read_csv('data/task_2_5/lm_scores_mmlu_shuffle.csv')\n",
    "\n",
    "def test_retest(test, retest):\n",
    "    \n",
    "    assert len(test) == len(retest), \"Datasets must have the same length\"\n",
    "\n",
    "    # Convert 'correct' column to binary (1 for True, 0 otherwise) so we can multiply them all together\n",
    "    test_correct = (test['correct'] == True).astype(int)\n",
    "    retest_correct = (retest['correct'] == True).astype(int)\n",
    "\n",
    "    # Compute test-retest metric\n",
    "    test_retest_metric = (test_correct * retest_correct).mean()\n",
    "    \n",
    "    return test_retest_metric\n",
    "\n",
    "metrics = []\n",
    "for model in df_mmlu['model_name'].unique():\n",
    "    test = df_mmlu[df_mmlu['model_name'] == model]\n",
    "    retest = df_shuffled_mmlu[df_shuffled_mmlu['model_name'] == model]\n",
    "\n",
    "    original_accuracy = test['correct'].mean()\n",
    "    test_retest_metric = test_retest(test, retest)\n",
    "    \n",
    "    metrics.append((model, original_accuracy, test_retest_metric))\n",
    "    print(f\"Test-Retest Metric for {model}: {test_retest_metric:.4f}\")\n",
    "\n",
    "metrics_df = pd.DataFrame(metrics, columns=['Model', 'Original Accuracy', 'Test-Retest Metric'])\n",
    "\n",
    "plt.figure(figsize=(10, 6))\n",
    "x = range(len(metrics_df))\n",
    "\n",
    "plt.bar(x, metrics_df['Original Accuracy'], width=0.4, label='Original Accuracy', align='center')\n",
    "plt.bar([i + 0.4 for i in x], metrics_df['Test-Retest Metric'], width=0.4, label='Test-Retest Metric', align='center')\n",
    "\n",
    "plt.xticks([i + 0.2 for i in x], metrics_df['Model'])\n",
    "plt.ylabel('Score')\n",
    "plt.xlabel('Model')\n",
    "plt.title('Original Accuracy vs. Test-Retest Stability')\n",
    "plt.legend()\n",
    "\n",
    "plt.show()"
   ]
  },
  {
   "cell_type": "markdown",
   "id": "62d52d93",
   "metadata": {},
   "source": [
    "### 2.7 (2 pt)\n",
    "\n",
    "A. Using the unshuffled data: For each LM, print the distribution of the answers they give as well as the accuracy conditioned on the answer they give.\n",
    "\n",
    "B. /Discuss:/ Describe what you observe\n",
    "\n",
    "[bonus: not scored, but again _that sweet, sweet knowledge_] Could you think of a plausible explanation?"
   ]
  },
  {
   "cell_type": "code",
   "execution_count": 100,
   "id": "579c30cf",
   "metadata": {},
   "outputs": [
    {
     "name": "stdout",
     "output_type": "stream",
     "text": [
      "Answer Distribution by Model\n",
      "result         A     B     C     D\n",
      "model_name                        \n",
      "X           4259  2659  2409  2369\n",
      "Y           1072  2256  3015  5353\n",
      "Z           2176  2885  3237  3398\n",
      "\n",
      "Accuracy Conditioned on Answer Given\n",
      "answer             A         B         C         D\n",
      "model_name                                        \n",
      "X           0.972688  0.799185  0.707905  0.633592\n",
      "Y           0.623836  0.688073  0.733470  0.904252\n",
      "Z           0.643079  0.641182  0.669115  0.661139\n"
     ]
    },
    {
     "data": {
      "image/png": "[encoded data removed]",
      "text/plain": [
       "<Figure size 1000x600 with 1 Axes>"
      ]
     },
     "metadata": {},
     "output_type": "display_data"
    },
    {
     "data": {
      "image/png": "[encoded data removed]",
      "text/plain": [
       "<Figure size 1000x600 with 1 Axes>"
      ]
     },
     "metadata": {},
     "output_type": "display_data"
    }
   ],
   "source": [
    "#A\n",
    "\n",
    "answer_distribution = df_mmlu.groupby(['model_name', 'result']).size().unstack()\n",
    "mmlu_conditioned_mean = df_mmlu.groupby(['model_name', 'answer'])['correct'].mean().unstack()\n",
    "\n",
    "\n",
    "print(\"Answer Distribution by Model\")\n",
    "print(answer_distribution.to_string())  \n",
    "\n",
    "print(\"\\nAccuracy Conditioned on Answer Given\")\n",
    "print(mmlu_conditioned_mean.to_string())\n",
    "\n",
    "# Plot Answer Distribution\n",
    "answer_distribution.plot(kind='bar', figsize=(10, 6))\n",
    "plt.title(\"Answer Distribution by Model\")\n",
    "plt.xlabel(\"Model\")\n",
    "plt.ylabel(\"Count\")\n",
    "plt.legend(title=\"Answer Given\")\n",
    "plt.xticks(rotation=0)\n",
    "plt.show()\n",
    "\n",
    "# Plot Accuracy by Given Answer\n",
    "mmlu_conditioned_mean.plot(kind='bar', figsize=(10, 6))\n",
    "plt.title(\"Accuracy Conditioned on Answer Given\")\n",
    "plt.xlabel(\"Model\")\n",
    "plt.ylabel(\"Accuracy\")\n",
    "plt.legend(title=\"Answer Given\")\n",
    "plt.xticks(rotation=0)\n",
    "plt.show()"
   ]
  },
  {
   "cell_type": "markdown",
   "id": "e9b4c2e8",
   "metadata": {},
   "source": [
    "B. /Discuss:/\n",
    "\n",
    "Model X has a high frequency of choosing A while the other choices are more balanced, Model Y has a even greater preference for D, the other being in decreasing order with A as the last, Model Z confirms to be more balanced in its frequency of answers.\n",
    "\n",
    "For what regards the conditioned accuracy we can now understand how the bias of the models reflected on to their accuracy, this is because the accuracy will be high on the choices that are most often taken because of how the accuracy is calculated.\n",
    "\n",
    "One possible explanation is that the models overfitted to their traning datasets and hence carry on the imbalances of these."
   ]
  },
  {
   "cell_type": "markdown",
   "id": "2d45a77b",
   "metadata": {},
   "source": [
    "## Task 3 (16 points): What do Questions and Answers look like for a Language Model?\n",
    "\n",
    "While you feel pretty good about the tests you conducted so far, something still bothers you: what if the language models don't see the data like you do? Suddenly, you receive a phone call from a wise AI sage based in Maastricht named Yodata:\n",
    "\n",
    "```\n",
    "\"Hmmm, correct you are, jonge padawan, to question how the wereld is seen by large language models! Simple 'text,' it is not, nee nee nee! Characters and words, the way of gewone humans, this is not, heh heh heh.\n",
    "\n",
    "'Tokens,' they use, ja! Mysterious and powerful, these tokens are. Expand our vocabulary, they do, beyond the simple 'a to Z.' Chunky blocks of text, they become, yes! 'Hello world,' a simple phrase it may seem. But to a language model, '[24912, 2375]' it might appear, hmm? Verwarrend, it is!\n",
    "\n",
    "Wise, it would be, to explore these MMLU data points through the eyes of a language model, you think? Yes, yes! Much to learn, there is. The ways of the tokens, understand you must, if truly comprehend the great LMs, you wish to.\n",
    "\n",
    "Meditate on this, you should. The force of natural language processing, strong it is. But geduld, you must have, my jonge padawan. For only through great study and contemplation, will the mysteries of the tokens reveal themselves to you, they will. Ja, hmmm!\"\n",
    "```\n",
    "\n",
    "Admittingly, Yodata at times speaks in riddles... However, he was explaining a crucial aspect of modern LMs called [Tokenization](https://learn.microsoft.com/en-us/dotnet/ai/conceptual/understanding-tokens):\n",
    "\n",
    "\n",
    "“Tokens are words, character sets, or combinations of words and punctuation that are used by [language models (LMs)] to decompose text into. Tokenization is the first step in training”\n",
    "\n",
    "Instead of characters, LMs process natural language using “tokens”. While this is useful for a number of reasons, it does at times introduce some “unintuitive” behavior…"
   ]
  },
  {
   "cell_type": "code",
   "execution_count": 102,
   "id": "001c4c53",
   "metadata": {},
   "outputs": [
    {
     "name": "stdout",
     "output_type": "stream",
     "text": [
      "humans see: \"hello world\" --> language models see: [24912, 2375]\n"
     ]
    }
   ],
   "source": [
    "# PROVIDED CODE\n",
    "\n",
    "try:\n",
    "    import tiktoken\n",
    "except Exception as e:\n",
    "    print('installing tiktoken package') \n",
    "    %pip install tiktoken\n",
    "    \n",
    "    import tiktoken\n",
    "\n",
    "def tokenize_text(s):\n",
    "    enc = tiktoken.encoding_for_model('gpt-4o')\n",
    "    tokens = enc.encode(str(s))\n",
    "    return tokens\n",
    "\n",
    "example_string = 'hello world'\n",
    "print(f'humans see: \"{example_string}\" --> language models see: {tokenize_text(example_string)}')"
   ]
  },
  {
   "cell_type": "markdown",
   "id": "0ab56227",
   "metadata": {},
   "source": [
    "### 3.1 (5 pt)\n",
    "\n",
    "Use the provided code in the cell above to \"see the world through the eyes of a language model\":\n",
    "\n",
    "A. Tokenize the questions of the original MMLU data provided in task 1: `task_1/mmlu_data/test.csv` and plot the token distribution (the frequency of each token).\n",
    "\n",
    "B. Same as (A), but now for the answers in columns (columns \"A\", \"B\", \"C\", and \"D\").\n",
    "\n",
    "C. Isolate the tokens for the strings \"A\", \"B\", \"C\", and \"D\", then, for their occurances in both questions and answers, print their relative distribution to each other.\n",
    "\n",
    "**hint**\n",
    "- There are a _lot_ of tokens, consider using a cutoff point and log scale\n",
    "- For (c), they should sum to 1"
   ]
  },
  {
   "cell_type": "code",
   "execution_count": 91,
   "id": "a00f69cf",
   "metadata": {
    "scrolled": true
   },
   "outputs": [],
   "source": [
    "#A"
   ]
  },
  {
   "cell_type": "code",
   "execution_count": 92,
   "id": "7f4ce783",
   "metadata": {},
   "outputs": [],
   "source": [
    "#B"
   ]
  },
  {
   "cell_type": "code",
   "execution_count": 93,
   "id": "8015e92e",
   "metadata": {},
   "outputs": [],
   "source": [
    "#C"
   ]
  },
  {
   "cell_type": "markdown",
   "id": "2a9d0055",
   "metadata": {},
   "source": [
    "### 3.2 (3 pt)\n",
    "\n",
    "What if the number of \"A\", \"B\", \"C\", and \"D\" tokens in the question and answer pairs could influence a language model's decisions?\n",
    "\n",
    "A. For each question-answer pair, compute: \n",
    "1. the number of \"A\", \"B\", \"C\", and \"D\" tokens that occur in the combined question and answers; \n",
    "2. an the total number of tokens.\n",
    "3. then, group by the \"correct\" answer and compute the mean frequency of A, B, C, and D tokens and the total number of tokens. \n",
    "4. finally, print your results\n",
    "\n",
    "B. /Discuss:/ What do you think of the hypothesis that the frequency of A, B, C, and D tokens could influence answers?\n"
   ]
  },
  {
   "cell_type": "code",
   "execution_count": 94,
   "id": "cf09aaf6",
   "metadata": {},
   "outputs": [],
   "source": [
    "#A"
   ]
  },
  {
   "cell_type": "markdown",
   "id": "020511d4",
   "metadata": {},
   "source": [
    "B. /Discuss:/"
   ]
  },
  {
   "cell_type": "markdown",
   "id": "c2b42b74",
   "metadata": {},
   "source": [
    "### 3.3 (4 pt)\n",
    "\n",
    "Three of the most important considerations when deciding between language models are:\n",
    "\n",
    "Quality\n",
    "Costs\n",
    "Speed\n",
    "\n",
    "So far, much of your analysis has focused on quality. However, the government has indicated that they are quite concerned about both the total costs and speed as well. Specifically, it has been brought to their attention that a new `turbo` model has been launched! \n",
    "\n",
    "This model is both cheaper and faster than the models you evaluated so far. However, there is a catch: the context length* is much smaller than that of the other LMS. Namely, it can only process **300** tokens during inference. Meanwhile, the other models can process up to 100K tokens! \n",
    "\n",
    "*_The “context length” refers to the number of tokens that can be given to an LM as input._\n",
    "\n",
    "A. Are there subjects where using the cheaper model might be problematic? I.e., where part of the question and answer(s) might not fit completely in the context?\n",
    "\n",
    "B. /Discuss:/ Can you think of a strategy that would balance the needs of the government?\n",
    "\n",
    "**hint**:\n",
    "- An LM needs to have both the question and the different answer options in its context"
   ]
  },
  {
   "cell_type": "code",
   "execution_count": 95,
   "id": "f365f2b6",
   "metadata": {},
   "outputs": [],
   "source": [
    "#A"
   ]
  },
  {
   "cell_type": "markdown",
   "id": "4231fdc6",
   "metadata": {},
   "source": [
    "B. /Discuss:/"
   ]
  },
  {
   "cell_type": "markdown",
   "id": "44558c5d",
   "metadata": {},
   "source": [
    "### 3.4 (4 pt)\n",
    "\n",
    "/Discuss:/ The time has come to give your final recommendation on the use of LMs in education to the government! Taking into account everything you analyzed in all the preceding tasks (1, 2, and 3), please write a short recommendation consisting of 4 bullet points discussing your concerns."
   ]
  },
  {
   "cell_type": "markdown",
   "id": "61c2e634",
   "metadata": {},
   "source": [
    "B. /Discuss:/\n",
    "\n",
    "1.\n",
    "\n",
    "2.\n",
    "\n",
    "3.\n",
    "\n",
    "4."
   ]
  }
 ],
 "metadata": {
  "kernelspec": {
   "display_name": "UniMaas",
   "language": "python",
   "name": "python3"
  },
  "language_info": {
   "codemirror_mode": {
    "name": "ipython",
    "version": 3
   },
   "file_extension": ".py",
   "mimetype": "text/x-python",
   "name": "python",
   "nbconvert_exporter": "python",
   "pygments_lexer": "ipython3",
   "version": "3.11.4"
  }
 },
 "nbformat": 4,
 "nbformat_minor": 5
}
